{
 "cells": [
  {
   "cell_type": "markdown",
   "metadata": {},
   "source": [
    "Hola **Roberto**!\n",
    "\n",
    "Soy **Patricio Requena** 👋. Es un placer ser el revisor de tu proyecto el día de hoy!\n",
    "\n",
    "Revisaré tu proyecto detenidamente con el objetivo de ayudarte a mejorar y perfeccionar tus habilidades. Durante mi revisión, identificaré áreas donde puedas hacer mejoras en tu código, señalando específicamente qué y cómo podrías ajustar para optimizar el rendimiento y la claridad de tu proyecto. Además, es importante para mí destacar los aspectos que has manejado excepcionalmente bien. Reconocer tus fortalezas te ayudará a entender qué técnicas y métodos están funcionando a tu favor y cómo puedes aplicarlos en futuras tareas. \n",
    "\n",
    "_**Recuerda que al final de este notebook encontrarás un comentario general de mi parte**_, empecemos!\n",
    "\n",
    "Encontrarás mis comentarios dentro de cajas verdes, amarillas o rojas, ⚠️ **por favor, no muevas, modifiques o borres mis comentarios** ⚠️:\n",
    "\n",
    "\n",
    "<div class=\"alert alert-block alert-success\">\n",
    "<b>Comentario del revisor</b> <a class=“tocSkip”></a>\n",
    "Si todo está perfecto.\n",
    "</div>\n",
    "\n",
    "<div class=\"alert alert-block alert-warning\">\n",
    "<b>Comentario del revisor</b> <a class=“tocSkip”></a>\n",
    "Si tu código está bien pero se puede mejorar o hay algún detalle que le hace falta.\n",
    "</div>\n",
    "\n",
    "<div class=\"alert alert-block alert-danger\">\n",
    "<b>Comentario del revisor</b> <a class=“tocSkip”></a>\n",
    "Si de pronto hace falta algo o existe algún problema con tu código o conclusiones.\n",
    "</div>\n",
    "\n",
    "Puedes responderme de esta forma:\n",
    "<div class=\"alert alert-block alert-info\">\n",
    "<b>Respuesta del estudiante</b> <a class=“tocSkip”></a>\n",
    "</div>"
   ]
  },
  {
   "cell_type": "markdown",
   "metadata": {},
   "source": [
    "# Proyecto Final: Telecomunicaciones: identificar operadores ineficaces"
   ]
  },
  {
   "cell_type": "markdown",
   "metadata": {},
   "source": [
    "# Ejercicio\n",
    "\n",
    "El servicio de telefonía virtual CallMeMaybe está desarrollando una nueva función que brindará a los supervisores y las supervisores información sobre los operadores menos eficaces. Se considera que un operador es ineficaz si tiene una gran cantidad de llamadas entrantes perdidas (internas y externas) y un tiempo de espera prolongado para las llamadas entrantes. Además, si se supone que un operador debe realizar llamadas salientes, un número reducido de ellas también será un signo de ineficacia."
   ]
  },
  {
   "cell_type": "code",
   "execution_count": 203,
   "metadata": {},
   "outputs": [],
   "source": [
    "import pandas as pd \n",
    "from matplotlib import pyplot as plt\n",
    "import plotly.express as px\n",
    "from scipy import stats\n",
    "from scipy import stats as st\n",
    "import numpy as np\n",
    "import plotly.express as px\n",
    "import plotly.express as px\n",
    "from math import factorial\n",
    "from datetime import datetime\n",
    "import seaborn as sns\n",
    "from scipy.stats import ttest_ind, linregress\n",
    "from scipy.stats import ttest_ind\n",
    "from scipy.stats import pearsonr"
   ]
  },
  {
   "cell_type": "code",
   "execution_count": 204,
   "metadata": {},
   "outputs": [],
   "source": [
    "# Cargar el dataset de telecomunicaciones\n",
    "telecom_data = pd.read_csv('/datasets/telecom_dataset_us.csv')\n",
    "\n",
    "# Cargar el dataset de clientes\n",
    "clients_data = pd.read_csv('/datasets/telecom_clients_us.csv')"
   ]
  },
  {
   "cell_type": "markdown",
   "metadata": {},
   "source": [
    "## Análisis exploratorio de datos"
   ]
  },
  {
   "cell_type": "code",
   "execution_count": 205,
   "metadata": {},
   "outputs": [
    {
     "data": {
      "text/html": [
       "<div>\n",
       "<style scoped>\n",
       "    .dataframe tbody tr th:only-of-type {\n",
       "        vertical-align: middle;\n",
       "    }\n",
       "\n",
       "    .dataframe tbody tr th {\n",
       "        vertical-align: top;\n",
       "    }\n",
       "\n",
       "    .dataframe thead th {\n",
       "        text-align: right;\n",
       "    }\n",
       "</style>\n",
       "<table border=\"1\" class=\"dataframe\">\n",
       "  <thead>\n",
       "    <tr style=\"text-align: right;\">\n",
       "      <th></th>\n",
       "      <th>user_id</th>\n",
       "      <th>date</th>\n",
       "      <th>direction</th>\n",
       "      <th>internal</th>\n",
       "      <th>operator_id</th>\n",
       "      <th>is_missed_call</th>\n",
       "      <th>calls_count</th>\n",
       "      <th>call_duration</th>\n",
       "      <th>total_call_duration</th>\n",
       "    </tr>\n",
       "  </thead>\n",
       "  <tbody>\n",
       "    <tr>\n",
       "      <th>0</th>\n",
       "      <td>166377</td>\n",
       "      <td>2019-08-04 00:00:00+03:00</td>\n",
       "      <td>in</td>\n",
       "      <td>False</td>\n",
       "      <td>NaN</td>\n",
       "      <td>True</td>\n",
       "      <td>2</td>\n",
       "      <td>0</td>\n",
       "      <td>4</td>\n",
       "    </tr>\n",
       "    <tr>\n",
       "      <th>1</th>\n",
       "      <td>166377</td>\n",
       "      <td>2019-08-05 00:00:00+03:00</td>\n",
       "      <td>out</td>\n",
       "      <td>True</td>\n",
       "      <td>880022.0</td>\n",
       "      <td>True</td>\n",
       "      <td>3</td>\n",
       "      <td>0</td>\n",
       "      <td>5</td>\n",
       "    </tr>\n",
       "    <tr>\n",
       "      <th>2</th>\n",
       "      <td>166377</td>\n",
       "      <td>2019-08-05 00:00:00+03:00</td>\n",
       "      <td>out</td>\n",
       "      <td>True</td>\n",
       "      <td>880020.0</td>\n",
       "      <td>True</td>\n",
       "      <td>1</td>\n",
       "      <td>0</td>\n",
       "      <td>1</td>\n",
       "    </tr>\n",
       "    <tr>\n",
       "      <th>3</th>\n",
       "      <td>166377</td>\n",
       "      <td>2019-08-05 00:00:00+03:00</td>\n",
       "      <td>out</td>\n",
       "      <td>True</td>\n",
       "      <td>880020.0</td>\n",
       "      <td>False</td>\n",
       "      <td>1</td>\n",
       "      <td>10</td>\n",
       "      <td>18</td>\n",
       "    </tr>\n",
       "    <tr>\n",
       "      <th>4</th>\n",
       "      <td>166377</td>\n",
       "      <td>2019-08-05 00:00:00+03:00</td>\n",
       "      <td>out</td>\n",
       "      <td>False</td>\n",
       "      <td>880022.0</td>\n",
       "      <td>True</td>\n",
       "      <td>3</td>\n",
       "      <td>0</td>\n",
       "      <td>25</td>\n",
       "    </tr>\n",
       "  </tbody>\n",
       "</table>\n",
       "</div>"
      ],
      "text/plain": [
       "   user_id                       date direction internal  operator_id  \\\n",
       "0   166377  2019-08-04 00:00:00+03:00        in    False          NaN   \n",
       "1   166377  2019-08-05 00:00:00+03:00       out     True     880022.0   \n",
       "2   166377  2019-08-05 00:00:00+03:00       out     True     880020.0   \n",
       "3   166377  2019-08-05 00:00:00+03:00       out     True     880020.0   \n",
       "4   166377  2019-08-05 00:00:00+03:00       out    False     880022.0   \n",
       "\n",
       "   is_missed_call  calls_count  call_duration  total_call_duration  \n",
       "0            True            2              0                    4  \n",
       "1            True            3              0                    5  \n",
       "2            True            1              0                    1  \n",
       "3           False            1             10                   18  \n",
       "4            True            3              0                   25  "
      ]
     },
     "execution_count": 205,
     "metadata": {},
     "output_type": "execute_result"
    }
   ],
   "source": [
    "# Ver las primeras filas del dataset de telecomunicaciones\n",
    "telecom_data.head()"
   ]
  },
  {
   "cell_type": "code",
   "execution_count": 206,
   "metadata": {},
   "outputs": [
    {
     "name": "stdout",
     "output_type": "stream",
     "text": [
      "<class 'pandas.core.frame.DataFrame'>\n",
      "RangeIndex: 53902 entries, 0 to 53901\n",
      "Data columns (total 9 columns):\n",
      " #   Column               Non-Null Count  Dtype  \n",
      "---  ------               --------------  -----  \n",
      " 0   user_id              53902 non-null  int64  \n",
      " 1   date                 53902 non-null  object \n",
      " 2   direction            53902 non-null  object \n",
      " 3   internal             53785 non-null  object \n",
      " 4   operator_id          45730 non-null  float64\n",
      " 5   is_missed_call       53902 non-null  bool   \n",
      " 6   calls_count          53902 non-null  int64  \n",
      " 7   call_duration        53902 non-null  int64  \n",
      " 8   total_call_duration  53902 non-null  int64  \n",
      "dtypes: bool(1), float64(1), int64(4), object(3)\n",
      "memory usage: 3.3+ MB\n",
      "None\n"
     ]
    }
   ],
   "source": [
    "# Ver información general sobre los datos\n",
    "print(telecom_data.info())"
   ]
  },
  {
   "cell_type": "code",
   "execution_count": 207,
   "metadata": {},
   "outputs": [
    {
     "name": "stdout",
     "output_type": "stream",
     "text": [
      "<class 'pandas.core.frame.DataFrame'>\n",
      "RangeIndex: 53902 entries, 0 to 53901\n",
      "Data columns (total 9 columns):\n",
      " #   Column               Non-Null Count  Dtype         \n",
      "---  ------               --------------  -----         \n",
      " 0   user_id              53902 non-null  int64         \n",
      " 1   date                 53902 non-null  datetime64[ns]\n",
      " 2   direction            53902 non-null  object        \n",
      " 3   internal             53785 non-null  object        \n",
      " 4   operator_id          45730 non-null  float64       \n",
      " 5   is_missed_call       53902 non-null  bool          \n",
      " 6   calls_count          53902 non-null  int64         \n",
      " 7   call_duration        53902 non-null  int64         \n",
      " 8   total_call_duration  53902 non-null  int64         \n",
      "dtypes: bool(1), datetime64[ns](1), float64(1), int64(4), object(2)\n",
      "memory usage: 3.3+ MB\n",
      "None\n"
     ]
    }
   ],
   "source": [
    "# Convertir la columna 'date' a formato datetime\n",
    "telecom_data['date'] = pd.to_datetime(telecom_data['date']).dt.tz_localize(None)\n",
    "\n",
    "# Verificar el cambio\n",
    "print(telecom_data.info())"
   ]
  },
  {
   "cell_type": "code",
   "execution_count": 208,
   "metadata": {},
   "outputs": [
    {
     "data": {
      "text/html": [
       "<div>\n",
       "<style scoped>\n",
       "    .dataframe tbody tr th:only-of-type {\n",
       "        vertical-align: middle;\n",
       "    }\n",
       "\n",
       "    .dataframe tbody tr th {\n",
       "        vertical-align: top;\n",
       "    }\n",
       "\n",
       "    .dataframe thead th {\n",
       "        text-align: right;\n",
       "    }\n",
       "</style>\n",
       "<table border=\"1\" class=\"dataframe\">\n",
       "  <thead>\n",
       "    <tr style=\"text-align: right;\">\n",
       "      <th></th>\n",
       "      <th>user_id</th>\n",
       "      <th>date</th>\n",
       "      <th>direction</th>\n",
       "      <th>internal</th>\n",
       "      <th>operator_id</th>\n",
       "      <th>is_missed_call</th>\n",
       "      <th>calls_count</th>\n",
       "      <th>call_duration</th>\n",
       "      <th>total_call_duration</th>\n",
       "    </tr>\n",
       "  </thead>\n",
       "  <tbody>\n",
       "    <tr>\n",
       "      <th>0</th>\n",
       "      <td>166377</td>\n",
       "      <td>2019-08-04</td>\n",
       "      <td>in</td>\n",
       "      <td>False</td>\n",
       "      <td>NaN</td>\n",
       "      <td>True</td>\n",
       "      <td>2</td>\n",
       "      <td>0</td>\n",
       "      <td>4</td>\n",
       "    </tr>\n",
       "    <tr>\n",
       "      <th>1</th>\n",
       "      <td>166377</td>\n",
       "      <td>2019-08-05</td>\n",
       "      <td>out</td>\n",
       "      <td>True</td>\n",
       "      <td>880022.0</td>\n",
       "      <td>True</td>\n",
       "      <td>3</td>\n",
       "      <td>0</td>\n",
       "      <td>5</td>\n",
       "    </tr>\n",
       "    <tr>\n",
       "      <th>2</th>\n",
       "      <td>166377</td>\n",
       "      <td>2019-08-05</td>\n",
       "      <td>out</td>\n",
       "      <td>True</td>\n",
       "      <td>880020.0</td>\n",
       "      <td>True</td>\n",
       "      <td>1</td>\n",
       "      <td>0</td>\n",
       "      <td>1</td>\n",
       "    </tr>\n",
       "    <tr>\n",
       "      <th>3</th>\n",
       "      <td>166377</td>\n",
       "      <td>2019-08-05</td>\n",
       "      <td>out</td>\n",
       "      <td>True</td>\n",
       "      <td>880020.0</td>\n",
       "      <td>False</td>\n",
       "      <td>1</td>\n",
       "      <td>10</td>\n",
       "      <td>18</td>\n",
       "    </tr>\n",
       "    <tr>\n",
       "      <th>4</th>\n",
       "      <td>166377</td>\n",
       "      <td>2019-08-05</td>\n",
       "      <td>out</td>\n",
       "      <td>False</td>\n",
       "      <td>880022.0</td>\n",
       "      <td>True</td>\n",
       "      <td>3</td>\n",
       "      <td>0</td>\n",
       "      <td>25</td>\n",
       "    </tr>\n",
       "  </tbody>\n",
       "</table>\n",
       "</div>"
      ],
      "text/plain": [
       "   user_id       date direction internal  operator_id  is_missed_call  \\\n",
       "0   166377 2019-08-04        in    False          NaN            True   \n",
       "1   166377 2019-08-05       out     True     880022.0            True   \n",
       "2   166377 2019-08-05       out     True     880020.0            True   \n",
       "3   166377 2019-08-05       out     True     880020.0           False   \n",
       "4   166377 2019-08-05       out    False     880022.0            True   \n",
       "\n",
       "   calls_count  call_duration  total_call_duration  \n",
       "0            2              0                    4  \n",
       "1            3              0                    5  \n",
       "2            1              0                    1  \n",
       "3            1             10                   18  \n",
       "4            3              0                   25  "
      ]
     },
     "execution_count": 208,
     "metadata": {},
     "output_type": "execute_result"
    }
   ],
   "source": [
    "telecom_data.head()"
   ]
  },
  {
   "cell_type": "code",
   "execution_count": 209,
   "metadata": {},
   "outputs": [
    {
     "name": "stdout",
     "output_type": "stream",
     "text": [
      "             user_id    operator_id   calls_count  call_duration  \\\n",
      "count   53902.000000   45730.000000  53902.000000   53902.000000   \n",
      "mean   167295.344477  916535.993002     16.451245     866.684427   \n",
      "std       598.883775   21254.123136     62.917170    3731.791202   \n",
      "min    166377.000000  879896.000000      1.000000       0.000000   \n",
      "25%    166782.000000  900788.000000      1.000000       0.000000   \n",
      "50%    167162.000000  913938.000000      4.000000      38.000000   \n",
      "75%    167819.000000  937708.000000     12.000000     572.000000   \n",
      "max    168606.000000  973286.000000   4817.000000  144395.000000   \n",
      "\n",
      "       total_call_duration  \n",
      "count         53902.000000  \n",
      "mean           1157.133297  \n",
      "std            4403.468763  \n",
      "min               0.000000  \n",
      "25%              47.000000  \n",
      "50%             210.000000  \n",
      "75%             902.000000  \n",
      "max          166155.000000  \n"
     ]
    }
   ],
   "source": [
    "# Resumen estadístico de los valores numéricos\n",
    "print(telecom_data.describe())"
   ]
  },
  {
   "cell_type": "code",
   "execution_count": 210,
   "metadata": {},
   "outputs": [
    {
     "name": "stdout",
     "output_type": "stream",
     "text": [
      "user_id                   0\n",
      "date                      0\n",
      "direction                 0\n",
      "internal                117\n",
      "operator_id            8172\n",
      "is_missed_call            0\n",
      "calls_count               0\n",
      "call_duration             0\n",
      "total_call_duration       0\n",
      "dtype: int64\n"
     ]
    }
   ],
   "source": [
    "# Verificar valores nulos\n",
    "print(telecom_data.isnull().sum())"
   ]
  },
  {
   "cell_type": "code",
   "execution_count": 211,
   "metadata": {},
   "outputs": [],
   "source": [
    "# Reemplazar valores nulos \n",
    "telecom_data['internal'] = telecom_data['internal'].fillna(\"\")"
   ]
  },
  {
   "cell_type": "code",
   "execution_count": 212,
   "metadata": {},
   "outputs": [
    {
     "data": {
      "text/html": [
       "<div>\n",
       "<style scoped>\n",
       "    .dataframe tbody tr th:only-of-type {\n",
       "        vertical-align: middle;\n",
       "    }\n",
       "\n",
       "    .dataframe tbody tr th {\n",
       "        vertical-align: top;\n",
       "    }\n",
       "\n",
       "    .dataframe thead th {\n",
       "        text-align: right;\n",
       "    }\n",
       "</style>\n",
       "<table border=\"1\" class=\"dataframe\">\n",
       "  <thead>\n",
       "    <tr style=\"text-align: right;\">\n",
       "      <th></th>\n",
       "      <th>user_id</th>\n",
       "      <th>date</th>\n",
       "      <th>direction</th>\n",
       "      <th>internal</th>\n",
       "      <th>operator_id</th>\n",
       "      <th>is_missed_call</th>\n",
       "      <th>calls_count</th>\n",
       "      <th>call_duration</th>\n",
       "      <th>total_call_duration</th>\n",
       "    </tr>\n",
       "  </thead>\n",
       "  <tbody>\n",
       "    <tr>\n",
       "      <th>0</th>\n",
       "      <td>166377</td>\n",
       "      <td>2019-08-04</td>\n",
       "      <td>in</td>\n",
       "      <td>False</td>\n",
       "      <td>Op_no_identific</td>\n",
       "      <td>True</td>\n",
       "      <td>2</td>\n",
       "      <td>0</td>\n",
       "      <td>4</td>\n",
       "    </tr>\n",
       "    <tr>\n",
       "      <th>1</th>\n",
       "      <td>166377</td>\n",
       "      <td>2019-08-05</td>\n",
       "      <td>out</td>\n",
       "      <td>True</td>\n",
       "      <td>880022.0</td>\n",
       "      <td>True</td>\n",
       "      <td>3</td>\n",
       "      <td>0</td>\n",
       "      <td>5</td>\n",
       "    </tr>\n",
       "    <tr>\n",
       "      <th>2</th>\n",
       "      <td>166377</td>\n",
       "      <td>2019-08-05</td>\n",
       "      <td>out</td>\n",
       "      <td>True</td>\n",
       "      <td>880020.0</td>\n",
       "      <td>True</td>\n",
       "      <td>1</td>\n",
       "      <td>0</td>\n",
       "      <td>1</td>\n",
       "    </tr>\n",
       "    <tr>\n",
       "      <th>3</th>\n",
       "      <td>166377</td>\n",
       "      <td>2019-08-05</td>\n",
       "      <td>out</td>\n",
       "      <td>True</td>\n",
       "      <td>880020.0</td>\n",
       "      <td>False</td>\n",
       "      <td>1</td>\n",
       "      <td>10</td>\n",
       "      <td>18</td>\n",
       "    </tr>\n",
       "    <tr>\n",
       "      <th>4</th>\n",
       "      <td>166377</td>\n",
       "      <td>2019-08-05</td>\n",
       "      <td>out</td>\n",
       "      <td>False</td>\n",
       "      <td>880022.0</td>\n",
       "      <td>True</td>\n",
       "      <td>3</td>\n",
       "      <td>0</td>\n",
       "      <td>25</td>\n",
       "    </tr>\n",
       "  </tbody>\n",
       "</table>\n",
       "</div>"
      ],
      "text/plain": [
       "   user_id       date direction internal      operator_id  is_missed_call  \\\n",
       "0   166377 2019-08-04        in    False  Op_no_identific            True   \n",
       "1   166377 2019-08-05       out     True         880022.0            True   \n",
       "2   166377 2019-08-05       out     True         880020.0            True   \n",
       "3   166377 2019-08-05       out     True         880020.0           False   \n",
       "4   166377 2019-08-05       out    False         880022.0            True   \n",
       "\n",
       "   calls_count  call_duration  total_call_duration  \n",
       "0            2              0                    4  \n",
       "1            3              0                    5  \n",
       "2            1              0                    1  \n",
       "3            1             10                   18  \n",
       "4            3              0                   25  "
      ]
     },
     "execution_count": 212,
     "metadata": {},
     "output_type": "execute_result"
    }
   ],
   "source": [
    "# Reemplazar valores vacíos en operator_id con \"Op_no_identific\"\n",
    "telecom_data[\"operator_id\"] = telecom_data[\"operator_id\"].fillna(\"Op_no_identific\")\n",
    "##telecom_data['operator_id'] = telecom_data['operator_id'].fillna(\"\")##\n",
    "\n",
    "# Verificar que el cambio se haya aplicado correctamente\n",
    "telecom_data.head()"
   ]
  },
  {
   "cell_type": "code",
   "execution_count": 213,
   "metadata": {},
   "outputs": [
    {
     "name": "stdout",
     "output_type": "stream",
     "text": [
      "user_id                0\n",
      "date                   0\n",
      "direction              0\n",
      "internal               0\n",
      "operator_id            0\n",
      "is_missed_call         0\n",
      "calls_count            0\n",
      "call_duration          0\n",
      "total_call_duration    0\n",
      "dtype: int64\n"
     ]
    }
   ],
   "source": [
    "# Verificar valores nulos\n",
    "print(telecom_data.isnull().sum())"
   ]
  },
  {
   "cell_type": "code",
   "execution_count": 214,
   "metadata": {},
   "outputs": [
    {
     "data": {
      "text/html": [
       "<div>\n",
       "<style scoped>\n",
       "    .dataframe tbody tr th:only-of-type {\n",
       "        vertical-align: middle;\n",
       "    }\n",
       "\n",
       "    .dataframe tbody tr th {\n",
       "        vertical-align: top;\n",
       "    }\n",
       "\n",
       "    .dataframe thead th {\n",
       "        text-align: right;\n",
       "    }\n",
       "</style>\n",
       "<table border=\"1\" class=\"dataframe\">\n",
       "  <thead>\n",
       "    <tr style=\"text-align: right;\">\n",
       "      <th></th>\n",
       "      <th>user_id</th>\n",
       "      <th>tariff_plan</th>\n",
       "      <th>date_start</th>\n",
       "    </tr>\n",
       "  </thead>\n",
       "  <tbody>\n",
       "    <tr>\n",
       "      <th>0</th>\n",
       "      <td>166713</td>\n",
       "      <td>A</td>\n",
       "      <td>2019-08-15</td>\n",
       "    </tr>\n",
       "    <tr>\n",
       "      <th>1</th>\n",
       "      <td>166901</td>\n",
       "      <td>A</td>\n",
       "      <td>2019-08-23</td>\n",
       "    </tr>\n",
       "    <tr>\n",
       "      <th>2</th>\n",
       "      <td>168527</td>\n",
       "      <td>A</td>\n",
       "      <td>2019-10-29</td>\n",
       "    </tr>\n",
       "    <tr>\n",
       "      <th>3</th>\n",
       "      <td>167097</td>\n",
       "      <td>A</td>\n",
       "      <td>2019-09-01</td>\n",
       "    </tr>\n",
       "    <tr>\n",
       "      <th>4</th>\n",
       "      <td>168193</td>\n",
       "      <td>A</td>\n",
       "      <td>2019-10-16</td>\n",
       "    </tr>\n",
       "  </tbody>\n",
       "</table>\n",
       "</div>"
      ],
      "text/plain": [
       "   user_id tariff_plan  date_start\n",
       "0   166713           A  2019-08-15\n",
       "1   166901           A  2019-08-23\n",
       "2   168527           A  2019-10-29\n",
       "3   167097           A  2019-09-01\n",
       "4   168193           A  2019-10-16"
      ]
     },
     "execution_count": 214,
     "metadata": {},
     "output_type": "execute_result"
    }
   ],
   "source": [
    "# Ver las primeras filas del dataset de clientes\n",
    "clients_data.head()"
   ]
  },
  {
   "cell_type": "code",
   "execution_count": 215,
   "metadata": {},
   "outputs": [
    {
     "name": "stdout",
     "output_type": "stream",
     "text": [
      "<class 'pandas.core.frame.DataFrame'>\n",
      "RangeIndex: 732 entries, 0 to 731\n",
      "Data columns (total 3 columns):\n",
      " #   Column       Non-Null Count  Dtype \n",
      "---  ------       --------------  ----- \n",
      " 0   user_id      732 non-null    int64 \n",
      " 1   tariff_plan  732 non-null    object\n",
      " 2   date_start   732 non-null    object\n",
      "dtypes: int64(1), object(2)\n",
      "memory usage: 17.3+ KB\n",
      "None\n"
     ]
    }
   ],
   "source": [
    "# Ver información general sobre los datos\n",
    "print(clients_data.info())"
   ]
  },
  {
   "cell_type": "code",
   "execution_count": 216,
   "metadata": {},
   "outputs": [
    {
     "name": "stdout",
     "output_type": "stream",
     "text": [
      "<class 'pandas.core.frame.DataFrame'>\n",
      "RangeIndex: 732 entries, 0 to 731\n",
      "Data columns (total 3 columns):\n",
      " #   Column       Non-Null Count  Dtype         \n",
      "---  ------       --------------  -----         \n",
      " 0   user_id      732 non-null    int64         \n",
      " 1   tariff_plan  732 non-null    object        \n",
      " 2   date_start   732 non-null    datetime64[ns]\n",
      "dtypes: datetime64[ns](1), int64(1), object(1)\n",
      "memory usage: 17.3+ KB\n",
      "None\n"
     ]
    }
   ],
   "source": [
    "# Convertir la columna 'date' a formato datetime\n",
    "clients_data['date_start'] = pd.to_datetime(clients_data['date_start'])\n",
    "\n",
    "# Verificar el cambio\n",
    "print(clients_data.info())"
   ]
  },
  {
   "cell_type": "code",
   "execution_count": 217,
   "metadata": {},
   "outputs": [
    {
     "data": {
      "text/html": [
       "<div>\n",
       "<style scoped>\n",
       "    .dataframe tbody tr th:only-of-type {\n",
       "        vertical-align: middle;\n",
       "    }\n",
       "\n",
       "    .dataframe tbody tr th {\n",
       "        vertical-align: top;\n",
       "    }\n",
       "\n",
       "    .dataframe thead th {\n",
       "        text-align: right;\n",
       "    }\n",
       "</style>\n",
       "<table border=\"1\" class=\"dataframe\">\n",
       "  <thead>\n",
       "    <tr style=\"text-align: right;\">\n",
       "      <th></th>\n",
       "      <th>user_id</th>\n",
       "      <th>tariff_plan</th>\n",
       "      <th>date_start</th>\n",
       "    </tr>\n",
       "  </thead>\n",
       "  <tbody>\n",
       "    <tr>\n",
       "      <th>0</th>\n",
       "      <td>166713</td>\n",
       "      <td>A</td>\n",
       "      <td>2019-08-15</td>\n",
       "    </tr>\n",
       "    <tr>\n",
       "      <th>1</th>\n",
       "      <td>166901</td>\n",
       "      <td>A</td>\n",
       "      <td>2019-08-23</td>\n",
       "    </tr>\n",
       "    <tr>\n",
       "      <th>2</th>\n",
       "      <td>168527</td>\n",
       "      <td>A</td>\n",
       "      <td>2019-10-29</td>\n",
       "    </tr>\n",
       "    <tr>\n",
       "      <th>3</th>\n",
       "      <td>167097</td>\n",
       "      <td>A</td>\n",
       "      <td>2019-09-01</td>\n",
       "    </tr>\n",
       "    <tr>\n",
       "      <th>4</th>\n",
       "      <td>168193</td>\n",
       "      <td>A</td>\n",
       "      <td>2019-10-16</td>\n",
       "    </tr>\n",
       "  </tbody>\n",
       "</table>\n",
       "</div>"
      ],
      "text/plain": [
       "   user_id tariff_plan date_start\n",
       "0   166713           A 2019-08-15\n",
       "1   166901           A 2019-08-23\n",
       "2   168527           A 2019-10-29\n",
       "3   167097           A 2019-09-01\n",
       "4   168193           A 2019-10-16"
      ]
     },
     "execution_count": 217,
     "metadata": {},
     "output_type": "execute_result"
    }
   ],
   "source": [
    "clients_data.head()"
   ]
  },
  {
   "cell_type": "code",
   "execution_count": 218,
   "metadata": {},
   "outputs": [
    {
     "name": "stdout",
     "output_type": "stream",
     "text": [
      "             user_id\n",
      "count     732.000000\n",
      "mean   167431.927596\n",
      "std       633.810383\n",
      "min    166373.000000\n",
      "25%    166900.750000\n",
      "50%    167432.000000\n",
      "75%    167973.000000\n",
      "max    168606.000000\n"
     ]
    }
   ],
   "source": [
    "# Resumen estadístico de los valores numéricos\n",
    "print(clients_data.describe())"
   ]
  },
  {
   "cell_type": "code",
   "execution_count": 219,
   "metadata": {},
   "outputs": [
    {
     "name": "stdout",
     "output_type": "stream",
     "text": [
      "user_id        0\n",
      "tariff_plan    0\n",
      "date_start     0\n",
      "dtype: int64\n"
     ]
    }
   ],
   "source": [
    "# Verificar valores nulos\n",
    "print(clients_data.isnull().sum())"
   ]
  },
  {
   "cell_type": "code",
   "execution_count": 220,
   "metadata": {},
   "outputs": [
    {
     "name": "stdout",
     "output_type": "stream",
     "text": [
      "['in' 'out']\n",
      "[False True '']\n",
      "[ True False]\n"
     ]
    }
   ],
   "source": [
    "##Identificar valores únicos en columnas clave \n",
    "\n",
    "print(telecom_data['direction'].unique())  # Tipos de dirección de llamada\n",
    "print(telecom_data['internal'].unique())   # Valores internos\n",
    "print(telecom_data['is_missed_call'].unique())  # Llamadas perdidas"
   ]
  },
  {
   "cell_type": "markdown",
   "metadata": {},
   "source": [
    "<div class=\"alert alert-block alert-success\">\n",
    "<b>Comentario del revisor (1ra Iteracion)</b> <a class=“tocSkip”></a>\n",
    "\n",
    "Buen trabajo, realizaste el procesamiento y revisión de tus datos correctamente. Datos de calidad aseguran que los resultados en los cálculos y métricas sean acertados para realizar el análisis\n",
    "</div>"
   ]
  },
  {
   "cell_type": "markdown",
   "metadata": {},
   "source": [
    "## Analisis de Variables\n",
    "\n",
    "1.Revisar la estructura de los datos: Ver los tipos de datos y valores únicos para identificar posibles problemas de formato.\n",
    "\n",
    "Analizar distribuciones:\n",
    "\n",
    "1.Distribuciones categóricas como direction e internal.\n",
    "\n",
    "2.Detectar valores atípicos: Usar diagramas de caja para identificar operadores con tiempos de espera excesivos o muchos intentos fallidos.\n",
    "\n",
    "3.Correlaciones: Analizar la relación entre variables, por ejemplo, si un alto tiempo de espera está ligado a más llamadas perdidas.\n",
    "\n"
   ]
  },
  {
   "cell_type": "code",
   "execution_count": 221,
   "metadata": {},
   "outputs": [
    {
     "name": "stdout",
     "output_type": "stream",
     "text": [
      "         operator_id  missed_calls  waiting_time  outgoing_calls\n",
      "876  Op_no_identific        112668    167.742291           549.0\n",
      "24          885876.0         27388   4816.241379         64897.0\n",
      "25          885890.0         26141   5727.133574         64653.0\n",
      "474         929428.0         19638   5325.342857         24572.0\n",
      "452         925922.0         10023   5907.443038         21754.0\n",
      "..               ...           ...           ...             ...\n",
      "750         949420.0             1      2.400000             1.0\n",
      "659         941826.0             1      2.000000             1.0\n",
      "432         924572.0             1      1.000000             1.0\n",
      "306         914626.0             1      0.000000             1.0\n",
      "813         958458.0             1      0.000000             1.0\n",
      "\n",
      "[877 rows x 4 columns]\n"
     ]
    }
   ],
   "source": [
    "# Filtrar operadores no identificados\n",
    "telecom_data_filtered = telecom_data[telecom_data[\"operator_id\"] != \"Op_no_identific\"]\n",
    "\n",
    "# Calcular llamadas entrantes perdidas por operador\n",
    "ineffective_operators = telecom_data[telecom_data['is_missed_call'] == True].groupby('operator_id')['calls_count'].sum().reset_index()\n",
    "ineffective_operators.rename(columns={'calls_count': 'missed_calls'}, inplace=True)\n",
    "\n",
    "# Calcular tiempo de espera promedio por operador\n",
    "telecom_data['waiting_time'] = telecom_data['total_call_duration'] - telecom_data['call_duration']\n",
    "waiting_time_avg = telecom_data.groupby('operator_id')['waiting_time'].mean().reset_index()\n",
    "ineffective_operators = ineffective_operators.merge(waiting_time_avg, on='operator_id', how='left')\n",
    "\n",
    "# Calcular número de llamadas salientes realizadas\n",
    "outgoing_calls = telecom_data[telecom_data['direction'] == 'out'].groupby('operator_id')['calls_count'].sum().reset_index()\n",
    "outgoing_calls.rename(columns={'calls_count': 'outgoing_calls'}, inplace=True)\n",
    "ineffective_operators = ineffective_operators.merge(outgoing_calls, on='operator_id', how='left')\n",
    "\n",
    "# Reemplazar valores NaN en 'outgoing_calls' con 0 (operadores que no hacen llamadas salientes)\n",
    "ineffective_operators['outgoing_calls'].fillna(0, inplace=True)\n",
    "\n",
    "# Ordenar por número de llamadas perdidas y tiempo de espera alto\n",
    "ineffective_operators = ineffective_operators.sort_values(by=['missed_calls', 'waiting_time'], ascending=False)\n",
    "\n",
    "# Mostrar los operadores menos eficaces\n",
    "print(ineffective_operators)  \n"
   ]
  },
  {
   "cell_type": "markdown",
   "metadata": {},
   "source": [
    "**Son muchos datos para hacer un histograma con todos los operadores por eso vamos a filtrar los 20 operadores mas ineficaz** "
   ]
  },
  {
   "cell_type": "code",
   "execution_count": 222,
   "metadata": {},
   "outputs": [
    {
     "data": {
      "image/png": "[encoded data removed]",
      "text/plain": [
       "<Figure size 1500x600 with 1 Axes>"
      ]
     },
     "metadata": {},
     "output_type": "display_data"
    }
   ],
   "source": [
    "# Filtrar los operadores más ineficaces\n",
    "top_20_inefficient = ineffective_operators.sort_values(by=\"missed_calls\", ascending= False)\n",
    "\n",
    "# Excluir operadores con 'Op_no_identific'\n",
    "top_20_inefficient = top_20_inefficient[top_20_inefficient[\"operator_id\"] != \"Op_no_identific\"]\n",
    "\n",
    "# Seleccionar los 20 operadores más ineficaces después de la exclusión\n",
    "top_20_inefficient = top_20_inefficient.head(20)\n",
    "\n",
    "# Graficar el histograma\n",
    "plt.figure(figsize=(15, 6))\n",
    "sns.barplot(x=top_20_inefficient[\"operator_id\"], y=top_20_inefficient[\"missed_calls\"], palette=\"Reds\")\n",
    "\n",
    "# Mejorar etiquetas y título\n",
    "plt.xticks(rotation=90)\n",
    "plt.title(\"Top 20 operadores con más llamadas perdidas (sin 'Op_no_identific')\")\n",
    "plt.xlabel(\"ID de Operador\")\n",
    "plt.ylabel(\"Número de llamadas perdidas\")\n",
    "plt.grid()\n",
    "\n",
    "plt.show()"
   ]
  },
  {
   "cell_type": "markdown",
   "metadata": {},
   "source": [
    "Muestra los 20 operadores menos eficaces y que tengan alta cantidad de llamadas perdidas, excluyendo aquellos con \"Op_no_identific\" en operator_id"
   ]
  },
  {
   "cell_type": "code",
   "execution_count": 223,
   "metadata": {},
   "outputs": [
    {
     "data": {
      "image/png": "[encoded data removed]",
      "text/plain": [
       "<Figure size 1500x600 with 1 Axes>"
      ]
     },
     "metadata": {},
     "output_type": "display_data"
    }
   ],
   "source": [
    "# Filtrar los operadores más ineficaces\n",
    "top_20_inefficient = ineffective_operators.sort_values(by=\"waiting_time\", ascending= False)\n",
    "\n",
    "# Excluir operadores con 'Op_no_identific'\n",
    "top_20_inefficient = top_20_inefficient[top_20_inefficient[\"operator_id\"] != \"Op_no_identific\"]\n",
    "\n",
    "# Seleccionar los 20 operadores más ineficaces después de la exclusión\n",
    "top_20_inefficient = top_20_inefficient.head(20)\n",
    "\n",
    "# Graficar el histograma\n",
    "plt.figure(figsize=(15, 6))\n",
    "sns.barplot(x=top_20_inefficient[\"operator_id\"], y=top_20_inefficient[\"waiting_time\"], palette=\"Reds\")\n",
    "\n",
    "# Mejorar etiquetas y título\n",
    "plt.xticks(rotation=90)\n",
    "plt.title(\"Top 20 operadores con más llamadas en espera (sin 'Op_no_identific')\")\n",
    "plt.xlabel(\"ID de Operador\")\n",
    "plt.ylabel(\"Número de llamadas en espera\")\n",
    "plt.grid()\n",
    "\n",
    "plt.show()"
   ]
  },
  {
   "cell_type": "markdown",
   "metadata": {},
   "source": [
    "Muestra los 20 operadores menos eficaces y que tengan alta cantidad de llamadasen espera, excluyendo aquellos con \"Op_no_identific\" en operator_id"
   ]
  },
  {
   "cell_type": "code",
   "execution_count": 224,
   "metadata": {},
   "outputs": [
    {
     "data": {
      "image/png": "[encoded data removed]",
      "text/plain": [
       "<Figure size 1000x600 with 1 Axes>"
      ]
     },
     "metadata": {},
     "output_type": "display_data"
    }
   ],
   "source": [
    "#Num Column\n",
    "numeric_columns = [\"calls_count\", \"call_duration\", \"total_call_duration\"]\n",
    "\n",
    "# Diagramas de caja para valores atípicos\n",
    "plt.figure(figsize=(10, 6))\n",
    "sns.boxplot(data=telecom_data[numeric_columns])\n",
    "plt.title(\"Detección de valores atípicos\")\n",
    "plt.show()"
   ]
  },
  {
   "cell_type": "markdown",
   "metadata": {},
   "source": [
    "Si observamos que hay puntos fuera del rango intercuartil en calls_count, podríamos identificar operadores que reciben muchas menos llamadas de lo esperado.\n",
    "Para call_duration y total_call_duration, si hay valores atípicos extremadamente altos, esto puede sugerir tiempos de espera excesivos o llamadas que duran mucho más que el promedio.\n",
    "Si los datos presentan mucha variabilidad, significa que hay una diferencia significativa entre operadores eficientes e ineficientes.\n",
    "\n"
   ]
  },
  {
   "cell_type": "code",
   "execution_count": 225,
   "metadata": {},
   "outputs": [
    {
     "name": "stdout",
     "output_type": "stream",
     "text": [
      "out    31917\n",
      "in     21985\n",
      "Name: direction, dtype: int64\n",
      "False    47621\n",
      "True      6164\n",
      "           117\n",
      "Name: internal, dtype: int64\n"
     ]
    }
   ],
   "source": [
    "# Contar valores de categorías\n",
    "print(telecom_data[\"direction\"].value_counts())\n",
    "print(telecom_data[\"internal\"].value_counts())"
   ]
  },
  {
   "cell_type": "code",
   "execution_count": 226,
   "metadata": {},
   "outputs": [
    {
     "data": {
      "image/png": "[encoded data removed]",
      "text/plain": [
       "<Figure size 800x600 with 2 Axes>"
      ]
     },
     "metadata": {},
     "output_type": "display_data"
    }
   ],
   "source": [
    "# Matriz de correlación\n",
    "plt.figure(figsize=(8, 6))\n",
    "sns.heatmap(telecom_data[numeric_columns].corr(), annot=True, cmap=\"coolwarm\", fmt=\".2f\")\n",
    "plt.title(\"Matriz de correlación\")\n",
    "plt.show()"
   ]
  },
  {
   "cell_type": "markdown",
   "metadata": {},
   "source": [
    "Si total_call_duration está fuertemente correlacionado con call_count, podría sugerir que tiempos de espera largos aumentan la probabilidad de que la llamada se pierda.\n",
    "Una baja correlación entre calls_count y call_duration podría indicar que la cantidad de llamadas no está afectando su duración, lo que podría ser útil para definir eficiencia."
   ]
  },
  {
   "cell_type": "code",
   "execution_count": 227,
   "metadata": {},
   "outputs": [
    {
     "name": "stdout",
     "output_type": "stream",
     "text": [
      "       operator_id  calls_count  call_duration  avg_call_duration\n",
      "0  Op_no_identific            2              0                0.0\n",
      "1         880022.0            3              0                0.0\n",
      "2         880020.0            1              0                0.0\n",
      "3         880020.0            1             10               10.0\n",
      "4         880022.0            3              0                0.0\n"
     ]
    }
   ],
   "source": [
    "# Dividir la duración de la llamada entre el número de llamadas para obtener la duración promedio de la llamada.\n",
    "# Calcular duración promedio de la llamada\n",
    "telecom_data[\"avg_call_duration\"] = telecom_data[\"call_duration\"] / telecom_data[\"calls_count\"]\n",
    "\n",
    "# Mostrar las primeras filas para verificar el cálculo\n",
    "print(telecom_data[[\"operator_id\", \"calls_count\", \"call_duration\", \"avg_call_duration\"]].head())"
   ]
  },
  {
   "cell_type": "code",
   "execution_count": 228,
   "metadata": {},
   "outputs": [
    {
     "data": {
      "image/png": "[encoded data removed]",
      "text/plain": [
       "<Figure size 1000x600 with 1 Axes>"
      ]
     },
     "metadata": {},
     "output_type": "display_data"
    },
    {
     "data": {
      "image/png": "[encoded data removed]",
      "text/plain": [
       "<Figure size 800x600 with 1 Axes>"
      ]
     },
     "metadata": {},
     "output_type": "display_data"
    }
   ],
   "source": [
    "# Calcular tiempo de espera promedio por llamada\n",
    "telecom_data[\"avg_wait_time\"] = telecom_data[\"total_call_duration\"] - telecom_data[\"call_duration\"]\n",
    "\n",
    "# Scatter plot para ver la relación entre duración promedio y tiempo de espera promedio\n",
    "plt.figure(figsize=(10, 6))\n",
    "sns.scatterplot(x=telecom_data[\"avg_call_duration\"], y=telecom_data[\"avg_wait_time\"])\n",
    "plt.xlabel(\"Duración promedio de llamada (min)\")\n",
    "plt.ylabel(\"Tiempo de espera promedio (min)\")\n",
    "plt.title(\"Relación entre duración promedio y tiempo de espera\")\n",
    "plt.show()\n",
    "\n",
    "# Boxplot para analizar la variabilidad de tiempos de espera\n",
    "plt.figure(figsize=(8, 6))\n",
    "sns.boxplot(x=telecom_data[\"avg_wait_time\"])\n",
    "plt.title(\"Distribución de tiempos de espera por llamada\")\n",
    "plt.show()"
   ]
  },
  {
   "cell_type": "markdown",
   "metadata": {},
   "source": [
    "Vemos una fuerte correlación entre tiempos de espera altos y duración promedio alta, podría sugerir que los operadores ineficientes están gestionando llamadas con demoras excesivas.\n",
    "Gráfico de dispersión: Relación entre duración promedio y tiempo de espera promedio\n",
    "Este gráfico muestra cómo se relacionan la duración promedio de las llamadas (avg_call_duration) con el tiempo de espera promedio (avg_wait_time).\n",
    "Si vemos una fuerte tendencia ascendente, significa que los operadores con llamadas más largas también tienen tiempos de espera altos. Esto podría sugerir que los operadores están lidiando con tiempos de espera prolongados antes de poder hablar con la persona que llama.\n",
    "Si hay una gran dispersión sin un patrón claro, podría indicar que los tiempos de espera varían aleatoriamente y no están necesariamente ligados a la duración de la llamada.\n",
    "Operadores con puntos extremadamente altos en avg_wait_time pueden ser candidatos a la clasificación como ineficientes.\n",
    "Diagrama de caja: Distribución de tiempos de espera por llamada:\n",
    "Este gráfico nos ayuda a identificar la variabilidad y posibles valores atípicos en el tiempo de espera.\n",
    "Si la caja es muy extendida, significa que hay una gran variabilidad en los tiempos de espera entre operadores.\n",
    "#Puntos fuera de los \"bigotes\" representan operadores con tiempos de espera anormalmente altos. Estos podrían ser operadores ineficaces.#\n",
    "Si los tiempos de espera están mayormente concentrados en valores bajos, entonces el tiempo de espera no sería un problema significativo en la mayoría de los operadores.\n"
   ]
  },
  {
   "cell_type": "markdown",
   "metadata": {},
   "source": [
    "## Operadores con mas tiempos de espera, que tienen más largos tiempos para las llamadas entrantes"
   ]
  },
  {
   "cell_type": "code",
   "execution_count": 229,
   "metadata": {},
   "outputs": [
    {
     "name": "stdout",
     "output_type": "stream",
     "text": [
      "    operator_id  avg_wait_time\n",
      "337    919794.0    1039.540541\n",
      "206    906070.0     853.312500\n",
      "335    919790.0     839.802817\n",
      "445    931458.0     655.236364\n",
      "207    906076.0     611.500000\n",
      "358    921318.0     607.466667\n",
      "328    919204.0     579.277778\n",
      "333    919552.0     556.776316\n",
      "288    913938.0     535.047619\n",
      "334    919554.0     518.154762\n"
     ]
    }
   ],
   "source": [
    "# Filtrar operadores no identificados\n",
    "telecom_data_filtered = telecom_data[telecom_data[\"operator_id\"] != \"Op_no_identific\"]\n",
    "\n",
    "# Filtrar solo llamadas entrantes\n",
    "incoming_calls = telecom_data[telecom_data[\"direction\"] == \"in\"]\n",
    "\n",
    "# Calcular tiempo de espera promedio por operador\n",
    "operator_wait_times = incoming_calls.groupby(\"operator_id\")[\"avg_wait_time\"].mean().reset_index()\n",
    "\n",
    "# Ordenar operadores por mayor tiempo de espera\n",
    "operator_wait_times_sorted = operator_wait_times.sort_values(by=\"avg_wait_time\", ascending=False)\n",
    "\n",
    "# Mostrar los operadores con tiempos de espera más largos\n",
    "print(operator_wait_times_sorted.head(10))\n"
   ]
  },
  {
   "cell_type": "code",
   "execution_count": 230,
   "metadata": {},
   "outputs": [
    {
     "data": {
      "application/vnd.plotly.v1+json": {
       "config": {
        "plotlyServerURL": "https://plot.ly"
       },
       "data": [
        {
         "alignmentgroup": "True",
         "hovertemplate": "avg_wait_time=%{y}<extra></extra>",
         "legendgroup": "",
         "marker": {
          "color": "#636efa"
         },
         "name": "",
         "notched": false,
         "offsetgroup": "",
         "orientation": "v",
         "showlegend": false,
         "type": "box",
         "x0": " ",
         "xaxis": "x",
         "y": [
          1039.5405405405406,
          853.3125,
          839.8028169014085,
          655.2363636363636,
          611.5,
          607.4666666666667,
          579.2777777777778,
          556.7763157894736,
          535.047619047619,
          518.1547619047619,
          433.46153846153845,
          398.6470588235294,
          389.484375,
          360.90909090909093,
          350.85555555555555,
          338.5744680851064,
          332.70588235294116,
          331.42,
          299.8333333333333,
          298.73333333333335,
          284.3333333333333,
          278.11,
          274.5921052631579,
          274,
          271,
          252.86666666666667,
          238.55555555555554,
          229,
          218,
          203.69565217391303,
          200.95744680851064,
          198.59615384615384,
          196.98648648648648,
          195.25,
          191.73076923076923,
          189.7258064516129,
          189.6875,
          188.35849056603774,
          183.9142857142857,
          182.91780821917808,
          179.05405405405406,
          177.5,
          175,
          173.45945945945945,
          171.23858504766685,
          171.16363636363636,
          169.94366197183098,
          169.92156862745097,
          168.88888888888889,
          163.88888888888889,
          160.859375,
          160.21052631578948,
          159.32142857142858,
          152.6206896551724,
          152.0188679245283,
          145.61904761904762,
          145.54545454545453,
          142.06521739130434,
          139.33333333333334,
          136.88235294117646,
          133.23076923076923,
          129.44444444444446,
          128.25,
          126.5,
          125.30508474576271,
          124.140625,
          123.88372093023256,
          123.44303797468355,
          122.14634146341463,
          121.05405405405405,
          121,
          120.33980582524272,
          120.3125,
          117.76190476190476,
          116.39655172413794,
          115.5,
          114.5,
          113.9672131147541,
          111.68571428571428,
          110.78873239436619,
          109.24242424242425,
          108.9,
          108.75,
          105.93023255813954,
          105.20689655172414,
          104,
          103.86111111111111,
          102.1875,
          102.03571428571429,
          101.94174757281553,
          101.50819672131148,
          100,
          98.90322580645162,
          98.46341463414635,
          98.27777777777777,
          98.17857142857143,
          97,
          96.47692307692307,
          93.66666666666667,
          93.5,
          93.1,
          92.91803278688525,
          91.65384615384616,
          91.55555555555556,
          89.53333333333333,
          89.39473684210526,
          89,
          88.99173553719008,
          88,
          87.15384615384616,
          84.23076923076923,
          84,
          83.5,
          83.18181818181819,
          82.44444444444444,
          82.16981132075472,
          81.03921568627452,
          81.03076923076924,
          81,
          81,
          80.5,
          79.91666666666667,
          79.75,
          79.5,
          78.97183098591549,
          78.66666666666667,
          77.88333333333334,
          77.38235294117646,
          77,
          76.72222222222223,
          76.12,
          76,
          75.60606060606061,
          75,
          74,
          73.23529411764706,
          72.66666666666667,
          72.375,
          72,
          72,
          71.07692307692308,
          71.01149425287356,
          70.9,
          70.42105263157895,
          70,
          69.45,
          69.22222222222223,
          68.6923076923077,
          68,
          67.4,
          67.33333333333333,
          67.125,
          66.6,
          66.5,
          66.25,
          66,
          66,
          65.88888888888889,
          65.63636363636364,
          65.6043956043956,
          65,
          64,
          64,
          63,
          62.904761904761905,
          62.361111111111114,
          62.333333333333336,
          62,
          62,
          61.90909090909091,
          61.666666666666664,
          61.32142857142857,
          61,
          60.9,
          60.53846153846154,
          60.46,
          60.45454545454545,
          60,
          60,
          59.98529411764706,
          59.9375,
          59.8235294117647,
          59.73170731707317,
          59.5,
          59.411764705882355,
          59.1025641025641,
          59.093333333333334,
          59.049180327868854,
          59,
          58.8,
          58.72222222222222,
          58.23684210526316,
          58.166666666666664,
          58,
          57.5,
          57.44736842105263,
          56.67857142857143,
          56.58490566037736,
          56.19047619047619,
          56.15384615384615,
          56.12903225806452,
          56.08771929824562,
          56,
          55.888888888888886,
          55.8,
          55.766666666666666,
          55.54545454545455,
          54.6875,
          54.583333333333336,
          54.34285714285714,
          54.339622641509436,
          54,
          53.60526315789474,
          53.55555555555556,
          53.166666666666664,
          52.904761904761905,
          52.86206896551724,
          52.5,
          52.45783132530121,
          52.42857142857143,
          52.35294117647059,
          52.34782608695652,
          51.81818181818182,
          51.666666666666664,
          51.416666666666664,
          51.11538461538461,
          50.75,
          50.5,
          50.390243902439025,
          50.38461538461539,
          50.303030303030305,
          50.16279069767442,
          49.88235294117647,
          49.333333333333336,
          49,
          48.77777777777778,
          48.7,
          48.07692307692308,
          48.05263157894737,
          48,
          47.5609756097561,
          47.4,
          47.375,
          47.30555555555556,
          47.06521739130435,
          46.6,
          46.375,
          46.333333333333336,
          46.285714285714285,
          46.142857142857146,
          45.705882352941174,
          45.55555555555556,
          45.473684210526315,
          45.44444444444444,
          45.44444444444444,
          45.4375,
          45.266666666666666,
          45.25,
          45,
          45,
          44.81818181818182,
          44.791666666666664,
          44.75,
          44.69767441860465,
          44.53846153846154,
          44.51724137931034,
          44.42857142857143,
          44,
          44,
          44,
          43.785714285714285,
          43.361111111111114,
          43,
          43,
          43,
          42.95454545454545,
          42.90909090909091,
          42.81818181818182,
          42.333333333333336,
          42.15384615384615,
          42,
          42,
          42,
          42,
          41.857142857142854,
          41.785714285714285,
          41.64102564102564,
          41.63636363636363,
          41.5,
          41,
          40.89473684210526,
          40.625,
          40.5,
          40.291666666666664,
          40.25,
          39.833333333333336,
          39.333333333333336,
          39,
          39,
          38.95,
          38.857142857142854,
          38.851063829787236,
          38.7037037037037,
          38.23529411764706,
          38.12903225806452,
          38.064516129032256,
          38.04347826086956,
          38,
          38,
          38,
          37.89473684210526,
          37.86363636363637,
          37.767857142857146,
          37.5,
          37.42857142857143,
          37.18181818181818,
          37.166666666666664,
          37.108695652173914,
          37,
          36.851851851851855,
          36.714285714285715,
          36.42857142857143,
          36.07142857142857,
          36,
          36,
          36,
          35.945945945945944,
          35.75,
          35.73076923076923,
          35.6,
          35,
          35,
          34.7,
          34.666666666666664,
          34.5,
          34.5,
          34.345454545454544,
          34.3,
          34.093023255813954,
          34,
          34,
          34,
          33.84,
          33.666666666666664,
          33.46153846153846,
          33.42857142857143,
          33.29545454545455,
          33.05882352941177,
          33,
          32.75,
          32.61904761904762,
          32.5609756097561,
          32.5,
          32.4375,
          32.25,
          32.2,
          32.111111111111114,
          32,
          32,
          31.875,
          31.857142857142858,
          31.8,
          31.8,
          31.77777777777778,
          31.736842105263158,
          31.666666666666668,
          31.666666666666668,
          31.666666666666668,
          31.571428571428573,
          31.366666666666667,
          31.32,
          31.285714285714285,
          31.28,
          31.142857142857142,
          31.071428571428573,
          31,
          31,
          31,
          31,
          31,
          30.9375,
          30.75,
          30.717391304347824,
          30.714285714285715,
          30.653846153846153,
          30.6,
          30.545454545454547,
          30.533333333333335,
          30.428571428571427,
          30.257142857142856,
          30.238095238095237,
          30.157894736842106,
          30,
          30,
          29.952380952380953,
          29.666666666666668,
          29.666666666666668,
          29.666666666666668,
          29.6,
          29.555555555555557,
          29.543478260869566,
          29.5,
          29.4,
          29.333333333333332,
          29.25,
          29.12,
          29.083333333333332,
          29,
          28.571428571428573,
          28.5,
          28.5,
          28.454545454545453,
          28.333333333333332,
          28.3,
          28.25,
          28.24074074074074,
          28.203125,
          28.2,
          28.11111111111111,
          28.09090909090909,
          28.047619047619047,
          28,
          27.857142857142858,
          27.6,
          27.444444444444443,
          27.333333333333332,
          27.333333333333332,
          27.333333333333332,
          27.25,
          27.25,
          27.166666666666668,
          27.1,
          27,
          27,
          26.91304347826087,
          26.75,
          26.75,
          26.666666666666668,
          26.64,
          26.636363636363637,
          26.571428571428573,
          26.551724137931036,
          26.5,
          26.357142857142858,
          26.31578947368421,
          26.29032258064516,
          26,
          26,
          26,
          26,
          26,
          25.95,
          25.894736842105264,
          25.666666666666668,
          25.666666666666668,
          25.5,
          25.5,
          25.2,
          25,
          25,
          25,
          25,
          25,
          25,
          24.95,
          24.870967741935484,
          24.857142857142858,
          24.818181818181817,
          24.714285714285715,
          24.642857142857142,
          24.571428571428573,
          24.5,
          24.4,
          24.194444444444443,
          24.157894736842106,
          24.076923076923077,
          24.044776119402986,
          24,
          24,
          24,
          23.9375,
          23.833333333333332,
          23.78787878787879,
          23.666666666666668,
          23.516129032258064,
          23.5,
          23.428571428571427,
          23.375,
          23.333333333333332,
          23.22222222222222,
          23.166666666666668,
          23,
          23,
          23,
          23,
          22.93103448275862,
          22.714285714285715,
          22.714285714285715,
          22.615384615384617,
          22.5,
          22.5,
          22,
          22,
          22,
          21.928571428571427,
          21.5,
          21.5,
          21.444444444444443,
          21.4,
          21.38888888888889,
          21.18,
          21.15,
          21,
          21,
          21,
          21,
          21,
          20.875,
          20.5,
          20.470588235294116,
          20.3,
          20.29230769230769,
          20.285714285714285,
          20.2,
          20.18421052631579,
          20,
          20,
          20,
          20,
          20,
          19.9,
          19.6875,
          19.666666666666668,
          19.63888888888889,
          19.428571428571427,
          19.333333333333332,
          19.272727272727273,
          19.166666666666668,
          19.142857142857142,
          19.125,
          19,
          19,
          19,
          19,
          19,
          19,
          19,
          18.95,
          18.833333333333332,
          18.8,
          18.714285714285715,
          18.705882352941178,
          18.7,
          18.5,
          18.333333333333332,
          18.294117647058822,
          18.266666666666666,
          18.25,
          18,
          18,
          18,
          17.925373134328357,
          17.857142857142858,
          17.714285714285715,
          17.666666666666668,
          17.636363636363637,
          17.6,
          17.545454545454547,
          17.5,
          17.413793103448278,
          17.4,
          17.333333333333332,
          17.25,
          17.25,
          17.25,
          17.142857142857142,
          17,
          17,
          17,
          17,
          16.875,
          16.8,
          16.5,
          16.5,
          16.4,
          16.375,
          16.333333333333332,
          16.2,
          16.1,
          16,
          16,
          15.9,
          15.625,
          15.6,
          15.571428571428571,
          15.571428571428571,
          15.545454545454545,
          15.2,
          15.153846153846153,
          15,
          15,
          15,
          15,
          15,
          15,
          15,
          15,
          15,
          15,
          14.764705882352942,
          14.733333333333333,
          14.714285714285714,
          14.678571428571429,
          14.444444444444445,
          14.42,
          14.285714285714286,
          14.266666666666667,
          14.2,
          14.1875,
          14,
          14,
          14,
          14,
          14,
          14,
          14,
          14,
          14,
          14,
          13.86111111111111,
          13.8,
          13.75,
          13.75,
          13.666666666666666,
          13.5,
          13.5,
          13.5,
          13.5,
          13,
          13,
          13,
          13,
          13,
          13,
          13,
          13,
          13,
          13,
          13,
          13,
          13,
          13,
          13,
          13,
          12.857142857142858,
          12.75,
          12.666666666666666,
          12.5,
          12.333333333333334,
          12.214285714285714,
          12.153846153846153,
          12,
          12,
          12,
          11.666666666666666,
          11.62962962962963,
          11,
          11,
          11,
          11,
          11,
          10.666666666666666,
          10.538461538461538,
          10.333333333333334,
          10.272727272727273,
          10.23076923076923,
          10.2,
          10.130434782608695,
          10,
          10,
          9.666666666666666,
          9.666666666666666,
          9.5,
          9.375,
          9,
          9,
          9,
          9,
          9,
          9,
          9,
          9,
          9,
          9,
          9,
          9,
          9,
          9,
          8.958333333333334,
          8.844444444444445,
          8.6,
          8.571428571428571,
          8.333333333333334,
          8,
          8,
          8,
          8,
          8,
          8,
          7.894736842105263,
          7.666666666666667,
          7.5,
          7.5,
          7.363636363636363,
          7.25,
          7,
          7,
          7,
          6.5,
          6,
          6,
          5.75,
          5.5,
          5.5,
          5.241379310344827,
          5,
          5,
          5,
          5,
          5,
          5,
          5,
          5,
          5,
          5,
          4.333333333333333,
          4.222222222222222,
          4,
          4,
          4,
          4,
          3.75,
          3.3333333333333335,
          3,
          3,
          3,
          2.6176470588235294,
          2.5172413793103448,
          2,
          2,
          1.4285714285714286,
          1.1428571428571428,
          1,
          1,
          1
         ],
         "y0": " ",
         "yaxis": "y"
        }
       ],
       "layout": {
        "boxmode": "group",
        "legend": {
         "tracegroupgap": 0
        },
        "template": {
         "data": {
          "bar": [
           {
            "error_x": {
             "color": "#2a3f5f"
            },
            "error_y": {
             "color": "#2a3f5f"
            },
            "marker": {
             "line": {
              "color": "#E5ECF6",
              "width": 0.5
             },
             "pattern": {
              "fillmode": "overlay",
              "size": 10,
              "solidity": 0.2
             }
            },
            "type": "bar"
           }
          ],
          "barpolar": [
           {
            "marker": {
             "line": {
              "color": "#E5ECF6",
              "width": 0.5
             },
             "pattern": {
              "fillmode": "overlay",
              "size": 10,
              "solidity": 0.2
             }
            },
            "type": "barpolar"
           }
          ],
          "carpet": [
           {
            "aaxis": {
             "endlinecolor": "#2a3f5f",
             "gridcolor": "white",
             "linecolor": "white",
             "minorgridcolor": "white",
             "startlinecolor": "#2a3f5f"
            },
            "baxis": {
             "endlinecolor": "#2a3f5f",
             "gridcolor": "white",
             "linecolor": "white",
             "minorgridcolor": "white",
             "startlinecolor": "#2a3f5f"
            },
            "type": "carpet"
           }
          ],
          "choropleth": [
           {
            "colorbar": {
             "outlinewidth": 0,
             "ticks": ""
            },
            "type": "choropleth"
           }
          ],
          "contour": [
           {
            "colorbar": {
             "outlinewidth": 0,
             "ticks": ""
            },
            "colorscale": [
             [
              0,
              "#0d0887"
             ],
             [
              0.1111111111111111,
              "#46039f"
             ],
             [
              0.2222222222222222,
              "#7201a8"
             ],
             [
              0.3333333333333333,
              "#9c179e"
             ],
             [
              0.4444444444444444,
              "#bd3786"
             ],
             [
              0.5555555555555556,
              "#d8576b"
             ],
             [
              0.6666666666666666,
              "#ed7953"
             ],
             [
              0.7777777777777778,
              "#fb9f3a"
             ],
             [
              0.8888888888888888,
              "#fdca26"
             ],
             [
              1,
              "#f0f921"
             ]
            ],
            "type": "contour"
           }
          ],
          "contourcarpet": [
           {
            "colorbar": {
             "outlinewidth": 0,
             "ticks": ""
            },
            "type": "contourcarpet"
           }
          ],
          "heatmap": [
           {
            "colorbar": {
             "outlinewidth": 0,
             "ticks": ""
            },
            "colorscale": [
             [
              0,
              "#0d0887"
             ],
             [
              0.1111111111111111,
              "#46039f"
             ],
             [
              0.2222222222222222,
              "#7201a8"
             ],
             [
              0.3333333333333333,
              "#9c179e"
             ],
             [
              0.4444444444444444,
              "#bd3786"
             ],
             [
              0.5555555555555556,
              "#d8576b"
             ],
             [
              0.6666666666666666,
              "#ed7953"
             ],
             [
              0.7777777777777778,
              "#fb9f3a"
             ],
             [
              0.8888888888888888,
              "#fdca26"
             ],
             [
              1,
              "#f0f921"
             ]
            ],
            "type": "heatmap"
           }
          ],
          "heatmapgl": [
           {
            "colorbar": {
             "outlinewidth": 0,
             "ticks": ""
            },
            "colorscale": [
             [
              0,
              "#0d0887"
             ],
             [
              0.1111111111111111,
              "#46039f"
             ],
             [
              0.2222222222222222,
              "#7201a8"
             ],
             [
              0.3333333333333333,
              "#9c179e"
             ],
             [
              0.4444444444444444,
              "#bd3786"
             ],
             [
              0.5555555555555556,
              "#d8576b"
             ],
             [
              0.6666666666666666,
              "#ed7953"
             ],
             [
              0.7777777777777778,
              "#fb9f3a"
             ],
             [
              0.8888888888888888,
              "#fdca26"
             ],
             [
              1,
              "#f0f921"
             ]
            ],
            "type": "heatmapgl"
           }
          ],
          "histogram": [
           {
            "marker": {
             "pattern": {
              "fillmode": "overlay",
              "size": 10,
              "solidity": 0.2
             }
            },
            "type": "histogram"
           }
          ],
          "histogram2d": [
           {
            "colorbar": {
             "outlinewidth": 0,
             "ticks": ""
            },
            "colorscale": [
             [
              0,
              "#0d0887"
             ],
             [
              0.1111111111111111,
              "#46039f"
             ],
             [
              0.2222222222222222,
              "#7201a8"
             ],
             [
              0.3333333333333333,
              "#9c179e"
             ],
             [
              0.4444444444444444,
              "#bd3786"
             ],
             [
              0.5555555555555556,
              "#d8576b"
             ],
             [
              0.6666666666666666,
              "#ed7953"
             ],
             [
              0.7777777777777778,
              "#fb9f3a"
             ],
             [
              0.8888888888888888,
              "#fdca26"
             ],
             [
              1,
              "#f0f921"
             ]
            ],
            "type": "histogram2d"
           }
          ],
          "histogram2dcontour": [
           {
            "colorbar": {
             "outlinewidth": 0,
             "ticks": ""
            },
            "colorscale": [
             [
              0,
              "#0d0887"
             ],
             [
              0.1111111111111111,
              "#46039f"
             ],
             [
              0.2222222222222222,
              "#7201a8"
             ],
             [
              0.3333333333333333,
              "#9c179e"
             ],
             [
              0.4444444444444444,
              "#bd3786"
             ],
             [
              0.5555555555555556,
              "#d8576b"
             ],
             [
              0.6666666666666666,
              "#ed7953"
             ],
             [
              0.7777777777777778,
              "#fb9f3a"
             ],
             [
              0.8888888888888888,
              "#fdca26"
             ],
             [
              1,
              "#f0f921"
             ]
            ],
            "type": "histogram2dcontour"
           }
          ],
          "mesh3d": [
           {
            "colorbar": {
             "outlinewidth": 0,
             "ticks": ""
            },
            "type": "mesh3d"
           }
          ],
          "parcoords": [
           {
            "line": {
             "colorbar": {
              "outlinewidth": 0,
              "ticks": ""
             }
            },
            "type": "parcoords"
           }
          ],
          "pie": [
           {
            "automargin": true,
            "type": "pie"
           }
          ],
          "scatter": [
           {
            "marker": {
             "colorbar": {
              "outlinewidth": 0,
              "ticks": ""
             }
            },
            "type": "scatter"
           }
          ],
          "scatter3d": [
           {
            "line": {
             "colorbar": {
              "outlinewidth": 0,
              "ticks": ""
             }
            },
            "marker": {
             "colorbar": {
              "outlinewidth": 0,
              "ticks": ""
             }
            },
            "type": "scatter3d"
           }
          ],
          "scattercarpet": [
           {
            "marker": {
             "colorbar": {
              "outlinewidth": 0,
              "ticks": ""
             }
            },
            "type": "scattercarpet"
           }
          ],
          "scattergeo": [
           {
            "marker": {
             "colorbar": {
              "outlinewidth": 0,
              "ticks": ""
             }
            },
            "type": "scattergeo"
           }
          ],
          "scattergl": [
           {
            "marker": {
             "colorbar": {
              "outlinewidth": 0,
              "ticks": ""
             }
            },
            "type": "scattergl"
           }
          ],
          "scattermapbox": [
           {
            "marker": {
             "colorbar": {
              "outlinewidth": 0,
              "ticks": ""
             }
            },
            "type": "scattermapbox"
           }
          ],
          "scatterpolar": [
           {
            "marker": {
             "colorbar": {
              "outlinewidth": 0,
              "ticks": ""
             }
            },
            "type": "scatterpolar"
           }
          ],
          "scatterpolargl": [
           {
            "marker": {
             "colorbar": {
              "outlinewidth": 0,
              "ticks": ""
             }
            },
            "type": "scatterpolargl"
           }
          ],
          "scatterternary": [
           {
            "marker": {
             "colorbar": {
              "outlinewidth": 0,
              "ticks": ""
             }
            },
            "type": "scatterternary"
           }
          ],
          "surface": [
           {
            "colorbar": {
             "outlinewidth": 0,
             "ticks": ""
            },
            "colorscale": [
             [
              0,
              "#0d0887"
             ],
             [
              0.1111111111111111,
              "#46039f"
             ],
             [
              0.2222222222222222,
              "#7201a8"
             ],
             [
              0.3333333333333333,
              "#9c179e"
             ],
             [
              0.4444444444444444,
              "#bd3786"
             ],
             [
              0.5555555555555556,
              "#d8576b"
             ],
             [
              0.6666666666666666,
              "#ed7953"
             ],
             [
              0.7777777777777778,
              "#fb9f3a"
             ],
             [
              0.8888888888888888,
              "#fdca26"
             ],
             [
              1,
              "#f0f921"
             ]
            ],
            "type": "surface"
           }
          ],
          "table": [
           {
            "cells": {
             "fill": {
              "color": "#EBF0F8"
             },
             "line": {
              "color": "white"
             }
            },
            "header": {
             "fill": {
              "color": "#C8D4E3"
             },
             "line": {
              "color": "white"
             }
            },
            "type": "table"
           }
          ]
         },
         "layout": {
          "annotationdefaults": {
           "arrowcolor": "#2a3f5f",
           "arrowhead": 0,
           "arrowwidth": 1
          },
          "autotypenumbers": "strict",
          "coloraxis": {
           "colorbar": {
            "outlinewidth": 0,
            "ticks": ""
           }
          },
          "colorscale": {
           "diverging": [
            [
             0,
             "#8e0152"
            ],
            [
             0.1,
             "#c51b7d"
            ],
            [
             0.2,
             "#de77ae"
            ],
            [
             0.3,
             "#f1b6da"
            ],
            [
             0.4,
             "#fde0ef"
            ],
            [
             0.5,
             "#f7f7f7"
            ],
            [
             0.6,
             "#e6f5d0"
            ],
            [
             0.7,
             "#b8e186"
            ],
            [
             0.8,
             "#7fbc41"
            ],
            [
             0.9,
             "#4d9221"
            ],
            [
             1,
             "#276419"
            ]
           ],
           "sequential": [
            [
             0,
             "#0d0887"
            ],
            [
             0.1111111111111111,
             "#46039f"
            ],
            [
             0.2222222222222222,
             "#7201a8"
            ],
            [
             0.3333333333333333,
             "#9c179e"
            ],
            [
             0.4444444444444444,
             "#bd3786"
            ],
            [
             0.5555555555555556,
             "#d8576b"
            ],
            [
             0.6666666666666666,
             "#ed7953"
            ],
            [
             0.7777777777777778,
             "#fb9f3a"
            ],
            [
             0.8888888888888888,
             "#fdca26"
            ],
            [
             1,
             "#f0f921"
            ]
           ],
           "sequentialminus": [
            [
             0,
             "#0d0887"
            ],
            [
             0.1111111111111111,
             "#46039f"
            ],
            [
             0.2222222222222222,
             "#7201a8"
            ],
            [
             0.3333333333333333,
             "#9c179e"
            ],
            [
             0.4444444444444444,
             "#bd3786"
            ],
            [
             0.5555555555555556,
             "#d8576b"
            ],
            [
             0.6666666666666666,
             "#ed7953"
            ],
            [
             0.7777777777777778,
             "#fb9f3a"
            ],
            [
             0.8888888888888888,
             "#fdca26"
            ],
            [
             1,
             "#f0f921"
            ]
           ]
          },
          "colorway": [
           "#636efa",
           "#EF553B",
           "#00cc96",
           "#ab63fa",
           "#FFA15A",
           "#19d3f3",
           "#FF6692",
           "#B6E880",
           "#FF97FF",
           "#FECB52"
          ],
          "font": {
           "color": "#2a3f5f"
          },
          "geo": {
           "bgcolor": "white",
           "lakecolor": "white",
           "landcolor": "#E5ECF6",
           "showlakes": true,
           "showland": true,
           "subunitcolor": "white"
          },
          "hoverlabel": {
           "align": "left"
          },
          "hovermode": "closest",
          "mapbox": {
           "style": "light"
          },
          "paper_bgcolor": "white",
          "plot_bgcolor": "#E5ECF6",
          "polar": {
           "angularaxis": {
            "gridcolor": "white",
            "linecolor": "white",
            "ticks": ""
           },
           "bgcolor": "#E5ECF6",
           "radialaxis": {
            "gridcolor": "white",
            "linecolor": "white",
            "ticks": ""
           }
          },
          "scene": {
           "xaxis": {
            "backgroundcolor": "#E5ECF6",
            "gridcolor": "white",
            "gridwidth": 2,
            "linecolor": "white",
            "showbackground": true,
            "ticks": "",
            "zerolinecolor": "white"
           },
           "yaxis": {
            "backgroundcolor": "#E5ECF6",
            "gridcolor": "white",
            "gridwidth": 2,
            "linecolor": "white",
            "showbackground": true,
            "ticks": "",
            "zerolinecolor": "white"
           },
           "zaxis": {
            "backgroundcolor": "#E5ECF6",
            "gridcolor": "white",
            "gridwidth": 2,
            "linecolor": "white",
            "showbackground": true,
            "ticks": "",
            "zerolinecolor": "white"
           }
          },
          "shapedefaults": {
           "line": {
            "color": "#2a3f5f"
           }
          },
          "ternary": {
           "aaxis": {
            "gridcolor": "white",
            "linecolor": "white",
            "ticks": ""
           },
           "baxis": {
            "gridcolor": "white",
            "linecolor": "white",
            "ticks": ""
           },
           "bgcolor": "#E5ECF6",
           "caxis": {
            "gridcolor": "white",
            "linecolor": "white",
            "ticks": ""
           }
          },
          "title": {
           "x": 0.05
          },
          "xaxis": {
           "automargin": true,
           "gridcolor": "white",
           "linecolor": "white",
           "ticks": "",
           "title": {
            "standoff": 15
           },
           "zerolinecolor": "white",
           "zerolinewidth": 2
          },
          "yaxis": {
           "automargin": true,
           "gridcolor": "white",
           "linecolor": "white",
           "ticks": "",
           "title": {
            "standoff": 15
           },
           "zerolinecolor": "white",
           "zerolinewidth": 2
          }
         }
        },
        "title": {
         "text": "Distribución de tiempos de espera en llamadas entrantes"
        },
        "xaxis": {
         "anchor": "y",
         "domain": [
          0,
          1
         ]
        },
        "yaxis": {
         "anchor": "x",
         "domain": [
          0,
          1
         ],
         "title": {
          "text": "avg_wait_time"
         }
        }
       }
      },
      "image/png": "[encoded data removed]",
      "text/html": [
       "<div>                            <div id=\"0d80fefa-06af-4b28-a90d-47e027d08533\" class=\"plotly-graph-div\" style=\"height:525px; width:100%;\"></div>            <script type=\"text/javascript\">                require([\"plotly\"], function(Plotly) {                    window.PLOTLYENV=window.PLOTLYENV || {};                                    if (document.getElementById(\"0d80fefa-06af-4b28-a90d-47e027d08533\")) {                    Plotly.newPlot(                        \"0d80fefa-06af-4b28-a90d-47e027d08533\",                        [{\"alignmentgroup\":\"True\",\"hovertemplate\":\"avg_wait_time=%{y}<extra></extra>\",\"legendgroup\":\"\",\"marker\":{\"color\":\"#636efa\"},\"name\":\"\",\"notched\":false,\"offsetgroup\":\"\",\"orientation\":\"v\",\"showlegend\":false,\"x0\":\" \",\"xaxis\":\"x\",\"y\":[1039.5405405405406,853.3125,839.8028169014085,655.2363636363636,611.5,607.4666666666667,579.2777777777778,556.7763157894736,535.047619047619,518.1547619047619,433.46153846153845,398.6470588235294,389.484375,360.90909090909093,350.85555555555555,338.5744680851064,332.70588235294116,331.42,299.8333333333333,298.73333333333335,284.3333333333333,278.11,274.5921052631579,274.0,271.0,252.86666666666667,238.55555555555554,229.0,218.0,203.69565217391303,200.95744680851064,198.59615384615384,196.98648648648648,195.25,191.73076923076923,189.7258064516129,189.6875,188.35849056603774,183.9142857142857,182.91780821917808,179.05405405405406,177.5,175.0,173.45945945945945,171.23858504766685,171.16363636363636,169.94366197183098,169.92156862745097,168.88888888888889,163.88888888888889,160.859375,160.21052631578948,159.32142857142858,152.6206896551724,152.0188679245283,145.61904761904762,145.54545454545453,142.06521739130434,139.33333333333334,136.88235294117646,133.23076923076923,129.44444444444446,128.25,126.5,125.30508474576271,124.140625,123.88372093023256,123.44303797468355,122.14634146341463,121.05405405405405,121.0,120.33980582524272,120.3125,117.76190476190476,116.39655172413794,115.5,114.5,113.9672131147541,111.68571428571428,110.78873239436619,109.24242424242425,108.9,108.75,105.93023255813954,105.20689655172414,104.0,103.86111111111111,102.1875,102.03571428571429,101.94174757281553,101.50819672131148,100.0,98.90322580645162,98.46341463414635,98.27777777777777,98.17857142857143,97.0,96.47692307692307,93.66666666666667,93.5,93.1,92.91803278688525,91.65384615384616,91.55555555555556,89.53333333333333,89.39473684210526,89.0,88.99173553719008,88.0,87.15384615384616,84.23076923076923,84.0,83.5,83.18181818181819,82.44444444444444,82.16981132075472,81.03921568627452,81.03076923076924,81.0,81.0,80.5,79.91666666666667,79.75,79.5,78.97183098591549,78.66666666666667,77.88333333333334,77.38235294117646,77.0,76.72222222222223,76.12,76.0,75.60606060606061,75.0,74.0,73.23529411764706,72.66666666666667,72.375,72.0,72.0,71.07692307692308,71.01149425287356,70.9,70.42105263157895,70.0,69.45,69.22222222222223,68.6923076923077,68.0,67.4,67.33333333333333,67.125,66.6,66.5,66.25,66.0,66.0,65.88888888888889,65.63636363636364,65.6043956043956,65.0,64.0,64.0,63.0,62.904761904761905,62.361111111111114,62.333333333333336,62.0,62.0,61.90909090909091,61.666666666666664,61.32142857142857,61.0,60.9,60.53846153846154,60.46,60.45454545454545,60.0,60.0,59.98529411764706,59.9375,59.8235294117647,59.73170731707317,59.5,59.411764705882355,59.1025641025641,59.093333333333334,59.049180327868854,59.0,58.8,58.72222222222222,58.23684210526316,58.166666666666664,58.0,57.5,57.44736842105263,56.67857142857143,56.58490566037736,56.19047619047619,56.15384615384615,56.12903225806452,56.08771929824562,56.0,55.888888888888886,55.8,55.766666666666666,55.54545454545455,54.6875,54.583333333333336,54.34285714285714,54.339622641509436,54.0,53.60526315789474,53.55555555555556,53.166666666666664,52.904761904761905,52.86206896551724,52.5,52.45783132530121,52.42857142857143,52.35294117647059,52.34782608695652,51.81818181818182,51.666666666666664,51.416666666666664,51.11538461538461,50.75,50.5,50.390243902439025,50.38461538461539,50.303030303030305,50.16279069767442,49.88235294117647,49.333333333333336,49.0,48.77777777777778,48.7,48.07692307692308,48.05263157894737,48.0,47.5609756097561,47.4,47.375,47.30555555555556,47.06521739130435,46.6,46.375,46.333333333333336,46.285714285714285,46.142857142857146,45.705882352941174,45.55555555555556,45.473684210526315,45.44444444444444,45.44444444444444,45.4375,45.266666666666666,45.25,45.0,45.0,44.81818181818182,44.791666666666664,44.75,44.69767441860465,44.53846153846154,44.51724137931034,44.42857142857143,44.0,44.0,44.0,43.785714285714285,43.361111111111114,43.0,43.0,43.0,42.95454545454545,42.90909090909091,42.81818181818182,42.333333333333336,42.15384615384615,42.0,42.0,42.0,42.0,41.857142857142854,41.785714285714285,41.64102564102564,41.63636363636363,41.5,41.0,40.89473684210526,40.625,40.5,40.291666666666664,40.25,39.833333333333336,39.333333333333336,39.0,39.0,38.95,38.857142857142854,38.851063829787236,38.7037037037037,38.23529411764706,38.12903225806452,38.064516129032256,38.04347826086956,38.0,38.0,38.0,37.89473684210526,37.86363636363637,37.767857142857146,37.5,37.42857142857143,37.18181818181818,37.166666666666664,37.108695652173914,37.0,36.851851851851855,36.714285714285715,36.42857142857143,36.07142857142857,36.0,36.0,36.0,35.945945945945944,35.75,35.73076923076923,35.6,35.0,35.0,34.7,34.666666666666664,34.5,34.5,34.345454545454544,34.3,34.093023255813954,34.0,34.0,34.0,33.84,33.666666666666664,33.46153846153846,33.42857142857143,33.29545454545455,33.05882352941177,33.0,32.75,32.61904761904762,32.5609756097561,32.5,32.4375,32.25,32.2,32.111111111111114,32.0,32.0,31.875,31.857142857142858,31.8,31.8,31.77777777777778,31.736842105263158,31.666666666666668,31.666666666666668,31.666666666666668,31.571428571428573,31.366666666666667,31.32,31.285714285714285,31.28,31.142857142857142,31.071428571428573,31.0,31.0,31.0,31.0,31.0,30.9375,30.75,30.717391304347824,30.714285714285715,30.653846153846153,30.6,30.545454545454547,30.533333333333335,30.428571428571427,30.257142857142856,30.238095238095237,30.157894736842106,30.0,30.0,29.952380952380953,29.666666666666668,29.666666666666668,29.666666666666668,29.6,29.555555555555557,29.543478260869566,29.5,29.4,29.333333333333332,29.25,29.12,29.083333333333332,29.0,28.571428571428573,28.5,28.5,28.454545454545453,28.333333333333332,28.3,28.25,28.24074074074074,28.203125,28.2,28.11111111111111,28.09090909090909,28.047619047619047,28.0,27.857142857142858,27.6,27.444444444444443,27.333333333333332,27.333333333333332,27.333333333333332,27.25,27.25,27.166666666666668,27.1,27.0,27.0,26.91304347826087,26.75,26.75,26.666666666666668,26.64,26.636363636363637,26.571428571428573,26.551724137931036,26.5,26.357142857142858,26.31578947368421,26.29032258064516,26.0,26.0,26.0,26.0,26.0,25.95,25.894736842105264,25.666666666666668,25.666666666666668,25.5,25.5,25.2,25.0,25.0,25.0,25.0,25.0,25.0,24.95,24.870967741935484,24.857142857142858,24.818181818181817,24.714285714285715,24.642857142857142,24.571428571428573,24.5,24.4,24.194444444444443,24.157894736842106,24.076923076923077,24.044776119402986,24.0,24.0,24.0,23.9375,23.833333333333332,23.78787878787879,23.666666666666668,23.516129032258064,23.5,23.428571428571427,23.375,23.333333333333332,23.22222222222222,23.166666666666668,23.0,23.0,23.0,23.0,22.93103448275862,22.714285714285715,22.714285714285715,22.615384615384617,22.5,22.5,22.0,22.0,22.0,21.928571428571427,21.5,21.5,21.444444444444443,21.4,21.38888888888889,21.18,21.15,21.0,21.0,21.0,21.0,21.0,20.875,20.5,20.470588235294116,20.3,20.29230769230769,20.285714285714285,20.2,20.18421052631579,20.0,20.0,20.0,20.0,20.0,19.9,19.6875,19.666666666666668,19.63888888888889,19.428571428571427,19.333333333333332,19.272727272727273,19.166666666666668,19.142857142857142,19.125,19.0,19.0,19.0,19.0,19.0,19.0,19.0,18.95,18.833333333333332,18.8,18.714285714285715,18.705882352941178,18.7,18.5,18.333333333333332,18.294117647058822,18.266666666666666,18.25,18.0,18.0,18.0,17.925373134328357,17.857142857142858,17.714285714285715,17.666666666666668,17.636363636363637,17.6,17.545454545454547,17.5,17.413793103448278,17.4,17.333333333333332,17.25,17.25,17.25,17.142857142857142,17.0,17.0,17.0,17.0,16.875,16.8,16.5,16.5,16.4,16.375,16.333333333333332,16.2,16.1,16.0,16.0,15.9,15.625,15.6,15.571428571428571,15.571428571428571,15.545454545454545,15.2,15.153846153846153,15.0,15.0,15.0,15.0,15.0,15.0,15.0,15.0,15.0,15.0,14.764705882352942,14.733333333333333,14.714285714285714,14.678571428571429,14.444444444444445,14.42,14.285714285714286,14.266666666666667,14.2,14.1875,14.0,14.0,14.0,14.0,14.0,14.0,14.0,14.0,14.0,14.0,13.86111111111111,13.8,13.75,13.75,13.666666666666666,13.5,13.5,13.5,13.5,13.0,13.0,13.0,13.0,13.0,13.0,13.0,13.0,13.0,13.0,13.0,13.0,13.0,13.0,13.0,13.0,12.857142857142858,12.75,12.666666666666666,12.5,12.333333333333334,12.214285714285714,12.153846153846153,12.0,12.0,12.0,11.666666666666666,11.62962962962963,11.0,11.0,11.0,11.0,11.0,10.666666666666666,10.538461538461538,10.333333333333334,10.272727272727273,10.23076923076923,10.2,10.130434782608695,10.0,10.0,9.666666666666666,9.666666666666666,9.5,9.375,9.0,9.0,9.0,9.0,9.0,9.0,9.0,9.0,9.0,9.0,9.0,9.0,9.0,9.0,8.958333333333334,8.844444444444445,8.6,8.571428571428571,8.333333333333334,8.0,8.0,8.0,8.0,8.0,8.0,7.894736842105263,7.666666666666667,7.5,7.5,7.363636363636363,7.25,7.0,7.0,7.0,6.5,6.0,6.0,5.75,5.5,5.5,5.241379310344827,5.0,5.0,5.0,5.0,5.0,5.0,5.0,5.0,5.0,5.0,4.333333333333333,4.222222222222222,4.0,4.0,4.0,4.0,3.75,3.3333333333333335,3.0,3.0,3.0,2.6176470588235294,2.5172413793103448,2.0,2.0,1.4285714285714286,1.1428571428571428,1.0,1.0,1.0],\"y0\":\" \",\"yaxis\":\"y\",\"type\":\"box\"}],                        {\"template\":{\"data\":{\"bar\":[{\"error_x\":{\"color\":\"#2a3f5f\"},\"error_y\":{\"color\":\"#2a3f5f\"},\"marker\":{\"line\":{\"color\":\"#E5ECF6\",\"width\":0.5},\"pattern\":{\"fillmode\":\"overlay\",\"size\":10,\"solidity\":0.2}},\"type\":\"bar\"}],\"barpolar\":[{\"marker\":{\"line\":{\"color\":\"#E5ECF6\",\"width\":0.5},\"pattern\":{\"fillmode\":\"overlay\",\"size\":10,\"solidity\":0.2}},\"type\":\"barpolar\"}],\"carpet\":[{\"aaxis\":{\"endlinecolor\":\"#2a3f5f\",\"gridcolor\":\"white\",\"linecolor\":\"white\",\"minorgridcolor\":\"white\",\"startlinecolor\":\"#2a3f5f\"},\"baxis\":{\"endlinecolor\":\"#2a3f5f\",\"gridcolor\":\"white\",\"linecolor\":\"white\",\"minorgridcolor\":\"white\",\"startlinecolor\":\"#2a3f5f\"},\"type\":\"carpet\"}],\"choropleth\":[{\"colorbar\":{\"outlinewidth\":0,\"ticks\":\"\"},\"type\":\"choropleth\"}],\"contour\":[{\"colorbar\":{\"outlinewidth\":0,\"ticks\":\"\"},\"colorscale\":[[0.0,\"#0d0887\"],[0.1111111111111111,\"#46039f\"],[0.2222222222222222,\"#7201a8\"],[0.3333333333333333,\"#9c179e\"],[0.4444444444444444,\"#bd3786\"],[0.5555555555555556,\"#d8576b\"],[0.6666666666666666,\"#ed7953\"],[0.7777777777777778,\"#fb9f3a\"],[0.8888888888888888,\"#fdca26\"],[1.0,\"#f0f921\"]],\"type\":\"contour\"}],\"contourcarpet\":[{\"colorbar\":{\"outlinewidth\":0,\"ticks\":\"\"},\"type\":\"contourcarpet\"}],\"heatmap\":[{\"colorbar\":{\"outlinewidth\":0,\"ticks\":\"\"},\"colorscale\":[[0.0,\"#0d0887\"],[0.1111111111111111,\"#46039f\"],[0.2222222222222222,\"#7201a8\"],[0.3333333333333333,\"#9c179e\"],[0.4444444444444444,\"#bd3786\"],[0.5555555555555556,\"#d8576b\"],[0.6666666666666666,\"#ed7953\"],[0.7777777777777778,\"#fb9f3a\"],[0.8888888888888888,\"#fdca26\"],[1.0,\"#f0f921\"]],\"type\":\"heatmap\"}],\"heatmapgl\":[{\"colorbar\":{\"outlinewidth\":0,\"ticks\":\"\"},\"colorscale\":[[0.0,\"#0d0887\"],[0.1111111111111111,\"#46039f\"],[0.2222222222222222,\"#7201a8\"],[0.3333333333333333,\"#9c179e\"],[0.4444444444444444,\"#bd3786\"],[0.5555555555555556,\"#d8576b\"],[0.6666666666666666,\"#ed7953\"],[0.7777777777777778,\"#fb9f3a\"],[0.8888888888888888,\"#fdca26\"],[1.0,\"#f0f921\"]],\"type\":\"heatmapgl\"}],\"histogram\":[{\"marker\":{\"pattern\":{\"fillmode\":\"overlay\",\"size\":10,\"solidity\":0.2}},\"type\":\"histogram\"}],\"histogram2d\":[{\"colorbar\":{\"outlinewidth\":0,\"ticks\":\"\"},\"colorscale\":[[0.0,\"#0d0887\"],[0.1111111111111111,\"#46039f\"],[0.2222222222222222,\"#7201a8\"],[0.3333333333333333,\"#9c179e\"],[0.4444444444444444,\"#bd3786\"],[0.5555555555555556,\"#d8576b\"],[0.6666666666666666,\"#ed7953\"],[0.7777777777777778,\"#fb9f3a\"],[0.8888888888888888,\"#fdca26\"],[1.0,\"#f0f921\"]],\"type\":\"histogram2d\"}],\"histogram2dcontour\":[{\"colorbar\":{\"outlinewidth\":0,\"ticks\":\"\"},\"colorscale\":[[0.0,\"#0d0887\"],[0.1111111111111111,\"#46039f\"],[0.2222222222222222,\"#7201a8\"],[0.3333333333333333,\"#9c179e\"],[0.4444444444444444,\"#bd3786\"],[0.5555555555555556,\"#d8576b\"],[0.6666666666666666,\"#ed7953\"],[0.7777777777777778,\"#fb9f3a\"],[0.8888888888888888,\"#fdca26\"],[1.0,\"#f0f921\"]],\"type\":\"histogram2dcontour\"}],\"mesh3d\":[{\"colorbar\":{\"outlinewidth\":0,\"ticks\":\"\"},\"type\":\"mesh3d\"}],\"parcoords\":[{\"line\":{\"colorbar\":{\"outlinewidth\":0,\"ticks\":\"\"}},\"type\":\"parcoords\"}],\"pie\":[{\"automargin\":true,\"type\":\"pie\"}],\"scatter\":[{\"marker\":{\"colorbar\":{\"outlinewidth\":0,\"ticks\":\"\"}},\"type\":\"scatter\"}],\"scatter3d\":[{\"line\":{\"colorbar\":{\"outlinewidth\":0,\"ticks\":\"\"}},\"marker\":{\"colorbar\":{\"outlinewidth\":0,\"ticks\":\"\"}},\"type\":\"scatter3d\"}],\"scattercarpet\":[{\"marker\":{\"colorbar\":{\"outlinewidth\":0,\"ticks\":\"\"}},\"type\":\"scattercarpet\"}],\"scattergeo\":[{\"marker\":{\"colorbar\":{\"outlinewidth\":0,\"ticks\":\"\"}},\"type\":\"scattergeo\"}],\"scattergl\":[{\"marker\":{\"colorbar\":{\"outlinewidth\":0,\"ticks\":\"\"}},\"type\":\"scattergl\"}],\"scattermapbox\":[{\"marker\":{\"colorbar\":{\"outlinewidth\":0,\"ticks\":\"\"}},\"type\":\"scattermapbox\"}],\"scatterpolar\":[{\"marker\":{\"colorbar\":{\"outlinewidth\":0,\"ticks\":\"\"}},\"type\":\"scatterpolar\"}],\"scatterpolargl\":[{\"marker\":{\"colorbar\":{\"outlinewidth\":0,\"ticks\":\"\"}},\"type\":\"scatterpolargl\"}],\"scatterternary\":[{\"marker\":{\"colorbar\":{\"outlinewidth\":0,\"ticks\":\"\"}},\"type\":\"scatterternary\"}],\"surface\":[{\"colorbar\":{\"outlinewidth\":0,\"ticks\":\"\"},\"colorscale\":[[0.0,\"#0d0887\"],[0.1111111111111111,\"#46039f\"],[0.2222222222222222,\"#7201a8\"],[0.3333333333333333,\"#9c179e\"],[0.4444444444444444,\"#bd3786\"],[0.5555555555555556,\"#d8576b\"],[0.6666666666666666,\"#ed7953\"],[0.7777777777777778,\"#fb9f3a\"],[0.8888888888888888,\"#fdca26\"],[1.0,\"#f0f921\"]],\"type\":\"surface\"}],\"table\":[{\"cells\":{\"fill\":{\"color\":\"#EBF0F8\"},\"line\":{\"color\":\"white\"}},\"header\":{\"fill\":{\"color\":\"#C8D4E3\"},\"line\":{\"color\":\"white\"}},\"type\":\"table\"}]},\"layout\":{\"annotationdefaults\":{\"arrowcolor\":\"#2a3f5f\",\"arrowhead\":0,\"arrowwidth\":1},\"autotypenumbers\":\"strict\",\"coloraxis\":{\"colorbar\":{\"outlinewidth\":0,\"ticks\":\"\"}},\"colorscale\":{\"diverging\":[[0,\"#8e0152\"],[0.1,\"#c51b7d\"],[0.2,\"#de77ae\"],[0.3,\"#f1b6da\"],[0.4,\"#fde0ef\"],[0.5,\"#f7f7f7\"],[0.6,\"#e6f5d0\"],[0.7,\"#b8e186\"],[0.8,\"#7fbc41\"],[0.9,\"#4d9221\"],[1,\"#276419\"]],\"sequential\":[[0.0,\"#0d0887\"],[0.1111111111111111,\"#46039f\"],[0.2222222222222222,\"#7201a8\"],[0.3333333333333333,\"#9c179e\"],[0.4444444444444444,\"#bd3786\"],[0.5555555555555556,\"#d8576b\"],[0.6666666666666666,\"#ed7953\"],[0.7777777777777778,\"#fb9f3a\"],[0.8888888888888888,\"#fdca26\"],[1.0,\"#f0f921\"]],\"sequentialminus\":[[0.0,\"#0d0887\"],[0.1111111111111111,\"#46039f\"],[0.2222222222222222,\"#7201a8\"],[0.3333333333333333,\"#9c179e\"],[0.4444444444444444,\"#bd3786\"],[0.5555555555555556,\"#d8576b\"],[0.6666666666666666,\"#ed7953\"],[0.7777777777777778,\"#fb9f3a\"],[0.8888888888888888,\"#fdca26\"],[1.0,\"#f0f921\"]]},\"colorway\":[\"#636efa\",\"#EF553B\",\"#00cc96\",\"#ab63fa\",\"#FFA15A\",\"#19d3f3\",\"#FF6692\",\"#B6E880\",\"#FF97FF\",\"#FECB52\"],\"font\":{\"color\":\"#2a3f5f\"},\"geo\":{\"bgcolor\":\"white\",\"lakecolor\":\"white\",\"landcolor\":\"#E5ECF6\",\"showlakes\":true,\"showland\":true,\"subunitcolor\":\"white\"},\"hoverlabel\":{\"align\":\"left\"},\"hovermode\":\"closest\",\"mapbox\":{\"style\":\"light\"},\"paper_bgcolor\":\"white\",\"plot_bgcolor\":\"#E5ECF6\",\"polar\":{\"angularaxis\":{\"gridcolor\":\"white\",\"linecolor\":\"white\",\"ticks\":\"\"},\"bgcolor\":\"#E5ECF6\",\"radialaxis\":{\"gridcolor\":\"white\",\"linecolor\":\"white\",\"ticks\":\"\"}},\"scene\":{\"xaxis\":{\"backgroundcolor\":\"#E5ECF6\",\"gridcolor\":\"white\",\"gridwidth\":2,\"linecolor\":\"white\",\"showbackground\":true,\"ticks\":\"\",\"zerolinecolor\":\"white\"},\"yaxis\":{\"backgroundcolor\":\"#E5ECF6\",\"gridcolor\":\"white\",\"gridwidth\":2,\"linecolor\":\"white\",\"showbackground\":true,\"ticks\":\"\",\"zerolinecolor\":\"white\"},\"zaxis\":{\"backgroundcolor\":\"#E5ECF6\",\"gridcolor\":\"white\",\"gridwidth\":2,\"linecolor\":\"white\",\"showbackground\":true,\"ticks\":\"\",\"zerolinecolor\":\"white\"}},\"shapedefaults\":{\"line\":{\"color\":\"#2a3f5f\"}},\"ternary\":{\"aaxis\":{\"gridcolor\":\"white\",\"linecolor\":\"white\",\"ticks\":\"\"},\"baxis\":{\"gridcolor\":\"white\",\"linecolor\":\"white\",\"ticks\":\"\"},\"bgcolor\":\"#E5ECF6\",\"caxis\":{\"gridcolor\":\"white\",\"linecolor\":\"white\",\"ticks\":\"\"}},\"title\":{\"x\":0.05},\"xaxis\":{\"automargin\":true,\"gridcolor\":\"white\",\"linecolor\":\"white\",\"ticks\":\"\",\"title\":{\"standoff\":15},\"zerolinecolor\":\"white\",\"zerolinewidth\":2},\"yaxis\":{\"automargin\":true,\"gridcolor\":\"white\",\"linecolor\":\"white\",\"ticks\":\"\",\"title\":{\"standoff\":15},\"zerolinecolor\":\"white\",\"zerolinewidth\":2}}},\"xaxis\":{\"anchor\":\"y\",\"domain\":[0.0,1.0]},\"yaxis\":{\"anchor\":\"x\",\"domain\":[0.0,1.0],\"title\":{\"text\":\"avg_wait_time\"}},\"legend\":{\"tracegroupgap\":0},\"title\":{\"text\":\"Distribuci\\u00f3n de tiempos de espera en llamadas entrantes\"},\"boxmode\":\"group\"},                        {\"responsive\": true}                    ).then(function(){\n",
       "                            \n",
       "var gd = document.getElementById('0d80fefa-06af-4b28-a90d-47e027d08533');\n",
       "var x = new MutationObserver(function (mutations, observer) {{\n",
       "        var display = window.getComputedStyle(gd).display;\n",
       "        if (!display || display === 'none') {{\n",
       "            console.log([gd, 'removed!']);\n",
       "            Plotly.purge(gd);\n",
       "            observer.disconnect();\n",
       "        }}\n",
       "}});\n",
       "\n",
       "// Listen for the removal of the full notebook cells\n",
       "var notebookContainer = gd.closest('#notebook-container');\n",
       "if (notebookContainer) {{\n",
       "    x.observe(notebookContainer, {childList: true});\n",
       "}}\n",
       "\n",
       "// Listen for the clearing of the current output cell\n",
       "var outputEl = gd.closest('.output');\n",
       "if (outputEl) {{\n",
       "    x.observe(outputEl, {childList: true});\n",
       "}}\n",
       "\n",
       "                        })                };                });            </script>        </div>"
      ]
     },
     "metadata": {},
     "output_type": "display_data"
    }
   ],
   "source": [
    "# Crear gráfico de caja dinámico\n",
    "fig = px.box(operator_wait_times_sorted, y=\"avg_wait_time\", title=\"Distribución de tiempos de espera en llamadas entrantes\")\n",
    "\n",
    "# Mostrar gráfico interactivo\n",
    "fig.show()"
   ]
  },
  {
   "cell_type": "markdown",
   "metadata": {},
   "source": [
    "Este gráfico mostrará la variabilidad de los tiempos de espera entre operadores. Los valores fuera de los bigotes representan operadores con tiempos de espera anormalmente altos,Si hay una gran dispersión, podríamos para detectar los operadores menos eficaces."
   ]
  },
  {
   "cell_type": "markdown",
   "metadata": {},
   "source": [
    "## Operadores que tienen un bajo número de llamadas salientes realizadas"
   ]
  },
  {
   "cell_type": "code",
   "execution_count": 231,
   "metadata": {},
   "outputs": [
    {
     "name": "stdout",
     "output_type": "stream",
     "text": [
      "    operator_id  calls_count\n",
      "486    930816.0            1\n",
      "782    954284.0            1\n",
      "139    900192.0            1\n",
      "291    914256.0            1\n",
      "629    940610.0            1\n",
      "841    963716.0            1\n",
      "680    945058.0            1\n",
      "293    914272.0            1\n",
      "45     890234.0            1\n",
      "297    914440.0            1\n"
     ]
    }
   ],
   "source": [
    "# Filtrar solo llamadas salientes\n",
    "outgoing_calls = telecom_data[telecom_data[\"direction\"] == \"out\"]\n",
    "\n",
    "# Calcular número total de llamadas salientes por operador\n",
    "operator_outgoing_calls = outgoing_calls.groupby(\"operator_id\")[\"calls_count\"].sum().reset_index()\n",
    "\n",
    "# Ordenar operadores por menor número de llamadas salientes\n",
    "operator_outgoing_calls_sorted = operator_outgoing_calls.sort_values(by=\"calls_count\", ascending=True)\n",
    "\n",
    "# Mostrar los operadores con menos llamadas salientes\n",
    "print(operator_outgoing_calls_sorted.head(10))"
   ]
  },
  {
   "cell_type": "markdown",
   "metadata": {},
   "source": [
    "Lista de los operadores que han realizado menos llamadas salientes. Si estos operadores tienen asignada la tarea de realizar llamadas salientes, su bajo rendimiento podría ser un indicador de ineficacia."
   ]
  },
  {
   "cell_type": "code",
   "execution_count": 232,
   "metadata": {},
   "outputs": [
    {
     "data": {
      "application/vnd.plotly.v1+json": {
       "config": {
        "plotlyServerURL": "https://plot.ly"
       },
       "data": [
        {
         "alignmentgroup": "True",
         "hovertemplate": "calls_count=%{y}<extra></extra>",
         "legendgroup": "",
         "marker": {
          "color": "#636efa"
         },
         "name": "",
         "notched": false,
         "offsetgroup": "",
         "orientation": "v",
         "showlegend": false,
         "type": "box",
         "x0": " ",
         "xaxis": "x",
         "y": [
          1,
          1,
          1,
          1,
          1,
          1,
          1,
          1,
          1,
          1,
          1,
          1,
          1,
          1,
          1,
          1,
          1,
          1,
          1,
          1,
          1,
          1,
          1,
          1,
          1,
          1,
          1,
          1,
          1,
          1,
          1,
          1,
          1,
          1,
          1,
          1,
          1,
          1,
          1,
          1,
          1,
          1,
          1,
          1,
          1,
          1,
          1,
          1,
          1,
          1,
          1,
          1,
          1,
          1,
          1,
          2,
          2,
          2,
          2,
          2,
          2,
          2,
          2,
          2,
          2,
          2,
          2,
          2,
          2,
          2,
          2,
          2,
          2,
          2,
          2,
          2,
          2,
          2,
          2,
          2,
          2,
          2,
          2,
          2,
          2,
          3,
          3,
          3,
          3,
          3,
          3,
          3,
          3,
          3,
          3,
          3,
          3,
          3,
          3,
          3,
          3,
          3,
          3,
          3,
          3,
          3,
          3,
          3,
          4,
          4,
          4,
          4,
          4,
          4,
          4,
          4,
          4,
          4,
          4,
          4,
          4,
          4,
          4,
          4,
          4,
          5,
          5,
          5,
          5,
          5,
          5,
          5,
          5,
          5,
          5,
          5,
          6,
          6,
          6,
          6,
          6,
          6,
          6,
          6,
          6,
          7,
          7,
          7,
          7,
          7,
          7,
          7,
          7,
          7,
          7,
          7,
          7,
          8,
          8,
          8,
          8,
          8,
          8,
          8,
          8,
          8,
          8,
          8,
          8,
          9,
          9,
          9,
          9,
          9,
          9,
          9,
          9,
          9,
          9,
          9,
          9,
          9,
          10,
          10,
          10,
          10,
          10,
          10,
          10,
          10,
          10,
          10,
          10,
          10,
          10,
          10,
          11,
          11,
          11,
          11,
          11,
          11,
          11,
          11,
          11,
          11,
          11,
          11,
          11,
          11,
          12,
          12,
          12,
          12,
          12,
          12,
          12,
          12,
          12,
          13,
          13,
          13,
          13,
          13,
          13,
          13,
          13,
          13,
          14,
          14,
          14,
          14,
          14,
          14,
          14,
          15,
          15,
          15,
          15,
          15,
          16,
          16,
          16,
          16,
          16,
          16,
          16,
          17,
          17,
          17,
          17,
          17,
          17,
          17,
          17,
          17,
          17,
          17,
          18,
          18,
          19,
          19,
          19,
          20,
          20,
          20,
          20,
          20,
          20,
          20,
          21,
          21,
          21,
          21,
          21,
          21,
          21,
          21,
          22,
          22,
          22,
          22,
          23,
          23,
          23,
          24,
          24,
          25,
          25,
          25,
          25,
          25,
          25,
          25,
          26,
          26,
          26,
          27,
          27,
          28,
          28,
          28,
          28,
          28,
          28,
          29,
          29,
          30,
          30,
          30,
          30,
          30,
          30,
          31,
          32,
          32,
          32,
          33,
          33,
          33,
          33,
          33,
          33,
          33,
          33,
          34,
          34,
          34,
          34,
          35,
          35,
          36,
          36,
          36,
          36,
          36,
          37,
          37,
          37,
          38,
          38,
          39,
          40,
          40,
          41,
          41,
          41,
          42,
          43,
          43,
          44,
          46,
          46,
          47,
          47,
          48,
          48,
          48,
          48,
          49,
          49,
          51,
          51,
          51,
          53,
          53,
          53,
          53,
          54,
          54,
          55,
          55,
          55,
          56,
          56,
          56,
          56,
          56,
          58,
          58,
          59,
          59,
          59,
          60,
          60,
          60,
          61,
          61,
          61,
          61,
          62,
          62,
          64,
          66,
          66,
          66,
          67,
          67,
          68,
          68,
          68,
          69,
          69,
          70,
          70,
          73,
          76,
          76,
          76,
          77,
          77,
          78,
          78,
          79,
          82,
          83,
          83,
          84,
          84,
          85,
          85,
          86,
          86,
          87,
          87,
          89,
          89,
          90,
          90,
          90,
          91,
          91,
          92,
          93,
          93,
          93,
          95,
          96,
          97,
          98,
          100,
          102,
          102,
          103,
          105,
          106,
          106,
          107,
          108,
          108,
          109,
          109,
          110,
          113,
          114,
          114,
          116,
          117,
          118,
          120,
          120,
          121,
          122,
          122,
          123,
          123,
          125,
          127,
          130,
          131,
          132,
          134,
          134,
          138,
          142,
          143,
          143,
          143,
          143,
          144,
          144,
          145,
          145,
          147,
          147,
          147,
          149,
          153,
          156,
          156,
          161,
          161,
          166,
          170,
          171,
          171,
          171,
          172,
          174,
          175,
          175,
          176,
          176,
          176,
          178,
          179,
          180,
          182,
          187,
          189,
          189,
          190,
          191,
          193,
          194,
          194,
          195,
          199,
          201,
          202,
          206,
          207,
          209,
          210,
          210,
          211,
          214,
          215,
          215,
          215,
          218,
          219,
          219,
          221,
          222,
          227,
          228,
          228,
          230,
          230,
          230,
          231,
          231,
          232,
          241,
          242,
          246,
          246,
          246,
          249,
          252,
          258,
          259,
          262,
          265,
          265,
          267,
          268,
          269,
          274,
          275,
          277,
          278,
          278,
          279,
          284,
          286,
          287,
          290,
          291,
          294,
          296,
          303,
          303,
          304,
          305,
          305,
          308,
          308,
          309,
          310,
          311,
          312,
          317,
          321,
          322,
          324,
          326,
          327,
          328,
          329,
          336,
          337,
          337,
          341,
          344,
          348,
          353,
          354,
          359,
          368,
          371,
          372,
          374,
          374,
          376,
          377,
          377,
          388,
          391,
          396,
          396,
          407,
          407,
          416,
          417,
          426,
          426,
          432,
          436,
          440,
          458,
          462,
          468,
          470,
          470,
          474,
          475,
          479,
          484,
          487,
          488,
          489,
          491,
          492,
          494,
          494,
          501,
          503,
          511,
          518,
          528,
          534,
          535,
          538,
          539,
          548,
          549,
          549,
          574,
          575,
          575,
          592,
          599,
          602,
          603,
          603,
          607,
          614,
          621,
          655,
          655,
          657,
          659,
          664,
          671,
          673,
          676,
          686,
          691,
          692,
          706,
          721,
          729,
          731,
          742,
          746,
          750,
          756,
          758,
          761,
          762,
          773,
          776,
          779,
          782,
          784,
          792,
          814,
          815,
          817,
          831,
          835,
          843,
          856,
          864,
          865,
          865,
          865,
          875,
          876,
          877,
          893,
          904,
          910,
          910,
          919,
          921,
          939,
          945,
          959,
          959,
          962,
          963,
          968,
          968,
          975,
          995,
          1014,
          1020,
          1023,
          1027,
          1029,
          1071,
          1077,
          1104,
          1113,
          1114,
          1126,
          1128,
          1134,
          1145,
          1184,
          1189,
          1205,
          1213,
          1217,
          1220,
          1227,
          1232,
          1239,
          1251,
          1266,
          1277,
          1277,
          1282,
          1285,
          1296,
          1297,
          1311,
          1324,
          1327,
          1332,
          1342,
          1342,
          1344,
          1346,
          1347,
          1353,
          1360,
          1367,
          1380,
          1380,
          1415,
          1429,
          1468,
          1473,
          1484,
          1502,
          1506,
          1516,
          1517,
          1531,
          1549,
          1554,
          1557,
          1565,
          1583,
          1590,
          1600,
          1623,
          1627,
          1636,
          1659,
          1664,
          1670,
          1697,
          1710,
          1738,
          1743,
          1760,
          1761,
          1778,
          1784,
          1791,
          1803,
          1805,
          1824,
          1827,
          1846,
          1850,
          1861,
          1887,
          1956,
          1980,
          1984,
          1998,
          2030,
          2037,
          2045,
          2074,
          2105,
          2151,
          2173,
          2210,
          2214,
          2214,
          2225,
          2228,
          2232,
          2233,
          2254,
          2260,
          2306,
          2336,
          2393,
          2414,
          2423,
          2519,
          2528,
          2538,
          2546,
          2561,
          2569,
          2582,
          2591,
          2605,
          2610,
          2617,
          2619,
          2691,
          2701,
          2748,
          2751,
          2794,
          2821,
          2831,
          2836,
          2846,
          2853,
          2855,
          2863,
          2864,
          2896,
          2918,
          2933,
          3031,
          3071,
          3094,
          3310,
          3396,
          3434,
          3457,
          3579,
          3580,
          3938,
          3943,
          4006,
          4080,
          4314,
          4817,
          5015,
          5096,
          5120,
          7059,
          7856,
          7919,
          12041,
          16699,
          21754,
          24572,
          64653,
          64897
         ],
         "y0": " ",
         "yaxis": "y"
        }
       ],
       "layout": {
        "boxmode": "group",
        "legend": {
         "tracegroupgap": 0
        },
        "template": {
         "data": {
          "bar": [
           {
            "error_x": {
             "color": "#2a3f5f"
            },
            "error_y": {
             "color": "#2a3f5f"
            },
            "marker": {
             "line": {
              "color": "#E5ECF6",
              "width": 0.5
             },
             "pattern": {
              "fillmode": "overlay",
              "size": 10,
              "solidity": 0.2
             }
            },
            "type": "bar"
           }
          ],
          "barpolar": [
           {
            "marker": {
             "line": {
              "color": "#E5ECF6",
              "width": 0.5
             },
             "pattern": {
              "fillmode": "overlay",
              "size": 10,
              "solidity": 0.2
             }
            },
            "type": "barpolar"
           }
          ],
          "carpet": [
           {
            "aaxis": {
             "endlinecolor": "#2a3f5f",
             "gridcolor": "white",
             "linecolor": "white",
             "minorgridcolor": "white",
             "startlinecolor": "#2a3f5f"
            },
            "baxis": {
             "endlinecolor": "#2a3f5f",
             "gridcolor": "white",
             "linecolor": "white",
             "minorgridcolor": "white",
             "startlinecolor": "#2a3f5f"
            },
            "type": "carpet"
           }
          ],
          "choropleth": [
           {
            "colorbar": {
             "outlinewidth": 0,
             "ticks": ""
            },
            "type": "choropleth"
           }
          ],
          "contour": [
           {
            "colorbar": {
             "outlinewidth": 0,
             "ticks": ""
            },
            "colorscale": [
             [
              0,
              "#0d0887"
             ],
             [
              0.1111111111111111,
              "#46039f"
             ],
             [
              0.2222222222222222,
              "#7201a8"
             ],
             [
              0.3333333333333333,
              "#9c179e"
             ],
             [
              0.4444444444444444,
              "#bd3786"
             ],
             [
              0.5555555555555556,
              "#d8576b"
             ],
             [
              0.6666666666666666,
              "#ed7953"
             ],
             [
              0.7777777777777778,
              "#fb9f3a"
             ],
             [
              0.8888888888888888,
              "#fdca26"
             ],
             [
              1,
              "#f0f921"
             ]
            ],
            "type": "contour"
           }
          ],
          "contourcarpet": [
           {
            "colorbar": {
             "outlinewidth": 0,
             "ticks": ""
            },
            "type": "contourcarpet"
           }
          ],
          "heatmap": [
           {
            "colorbar": {
             "outlinewidth": 0,
             "ticks": ""
            },
            "colorscale": [
             [
              0,
              "#0d0887"
             ],
             [
              0.1111111111111111,
              "#46039f"
             ],
             [
              0.2222222222222222,
              "#7201a8"
             ],
             [
              0.3333333333333333,
              "#9c179e"
             ],
             [
              0.4444444444444444,
              "#bd3786"
             ],
             [
              0.5555555555555556,
              "#d8576b"
             ],
             [
              0.6666666666666666,
              "#ed7953"
             ],
             [
              0.7777777777777778,
              "#fb9f3a"
             ],
             [
              0.8888888888888888,
              "#fdca26"
             ],
             [
              1,
              "#f0f921"
             ]
            ],
            "type": "heatmap"
           }
          ],
          "heatmapgl": [
           {
            "colorbar": {
             "outlinewidth": 0,
             "ticks": ""
            },
            "colorscale": [
             [
              0,
              "#0d0887"
             ],
             [
              0.1111111111111111,
              "#46039f"
             ],
             [
              0.2222222222222222,
              "#7201a8"
             ],
             [
              0.3333333333333333,
              "#9c179e"
             ],
             [
              0.4444444444444444,
              "#bd3786"
             ],
             [
              0.5555555555555556,
              "#d8576b"
             ],
             [
              0.6666666666666666,
              "#ed7953"
             ],
             [
              0.7777777777777778,
              "#fb9f3a"
             ],
             [
              0.8888888888888888,
              "#fdca26"
             ],
             [
              1,
              "#f0f921"
             ]
            ],
            "type": "heatmapgl"
           }
          ],
          "histogram": [
           {
            "marker": {
             "pattern": {
              "fillmode": "overlay",
              "size": 10,
              "solidity": 0.2
             }
            },
            "type": "histogram"
           }
          ],
          "histogram2d": [
           {
            "colorbar": {
             "outlinewidth": 0,
             "ticks": ""
            },
            "colorscale": [
             [
              0,
              "#0d0887"
             ],
             [
              0.1111111111111111,
              "#46039f"
             ],
             [
              0.2222222222222222,
              "#7201a8"
             ],
             [
              0.3333333333333333,
              "#9c179e"
             ],
             [
              0.4444444444444444,
              "#bd3786"
             ],
             [
              0.5555555555555556,
              "#d8576b"
             ],
             [
              0.6666666666666666,
              "#ed7953"
             ],
             [
              0.7777777777777778,
              "#fb9f3a"
             ],
             [
              0.8888888888888888,
              "#fdca26"
             ],
             [
              1,
              "#f0f921"
             ]
            ],
            "type": "histogram2d"
           }
          ],
          "histogram2dcontour": [
           {
            "colorbar": {
             "outlinewidth": 0,
             "ticks": ""
            },
            "colorscale": [
             [
              0,
              "#0d0887"
             ],
             [
              0.1111111111111111,
              "#46039f"
             ],
             [
              0.2222222222222222,
              "#7201a8"
             ],
             [
              0.3333333333333333,
              "#9c179e"
             ],
             [
              0.4444444444444444,
              "#bd3786"
             ],
             [
              0.5555555555555556,
              "#d8576b"
             ],
             [
              0.6666666666666666,
              "#ed7953"
             ],
             [
              0.7777777777777778,
              "#fb9f3a"
             ],
             [
              0.8888888888888888,
              "#fdca26"
             ],
             [
              1,
              "#f0f921"
             ]
            ],
            "type": "histogram2dcontour"
           }
          ],
          "mesh3d": [
           {
            "colorbar": {
             "outlinewidth": 0,
             "ticks": ""
            },
            "type": "mesh3d"
           }
          ],
          "parcoords": [
           {
            "line": {
             "colorbar": {
              "outlinewidth": 0,
              "ticks": ""
             }
            },
            "type": "parcoords"
           }
          ],
          "pie": [
           {
            "automargin": true,
            "type": "pie"
           }
          ],
          "scatter": [
           {
            "marker": {
             "colorbar": {
              "outlinewidth": 0,
              "ticks": ""
             }
            },
            "type": "scatter"
           }
          ],
          "scatter3d": [
           {
            "line": {
             "colorbar": {
              "outlinewidth": 0,
              "ticks": ""
             }
            },
            "marker": {
             "colorbar": {
              "outlinewidth": 0,
              "ticks": ""
             }
            },
            "type": "scatter3d"
           }
          ],
          "scattercarpet": [
           {
            "marker": {
             "colorbar": {
              "outlinewidth": 0,
              "ticks": ""
             }
            },
            "type": "scattercarpet"
           }
          ],
          "scattergeo": [
           {
            "marker": {
             "colorbar": {
              "outlinewidth": 0,
              "ticks": ""
             }
            },
            "type": "scattergeo"
           }
          ],
          "scattergl": [
           {
            "marker": {
             "colorbar": {
              "outlinewidth": 0,
              "ticks": ""
             }
            },
            "type": "scattergl"
           }
          ],
          "scattermapbox": [
           {
            "marker": {
             "colorbar": {
              "outlinewidth": 0,
              "ticks": ""
             }
            },
            "type": "scattermapbox"
           }
          ],
          "scatterpolar": [
           {
            "marker": {
             "colorbar": {
              "outlinewidth": 0,
              "ticks": ""
             }
            },
            "type": "scatterpolar"
           }
          ],
          "scatterpolargl": [
           {
            "marker": {
             "colorbar": {
              "outlinewidth": 0,
              "ticks": ""
             }
            },
            "type": "scatterpolargl"
           }
          ],
          "scatterternary": [
           {
            "marker": {
             "colorbar": {
              "outlinewidth": 0,
              "ticks": ""
             }
            },
            "type": "scatterternary"
           }
          ],
          "surface": [
           {
            "colorbar": {
             "outlinewidth": 0,
             "ticks": ""
            },
            "colorscale": [
             [
              0,
              "#0d0887"
             ],
             [
              0.1111111111111111,
              "#46039f"
             ],
             [
              0.2222222222222222,
              "#7201a8"
             ],
             [
              0.3333333333333333,
              "#9c179e"
             ],
             [
              0.4444444444444444,
              "#bd3786"
             ],
             [
              0.5555555555555556,
              "#d8576b"
             ],
             [
              0.6666666666666666,
              "#ed7953"
             ],
             [
              0.7777777777777778,
              "#fb9f3a"
             ],
             [
              0.8888888888888888,
              "#fdca26"
             ],
             [
              1,
              "#f0f921"
             ]
            ],
            "type": "surface"
           }
          ],
          "table": [
           {
            "cells": {
             "fill": {
              "color": "#EBF0F8"
             },
             "line": {
              "color": "white"
             }
            },
            "header": {
             "fill": {
              "color": "#C8D4E3"
             },
             "line": {
              "color": "white"
             }
            },
            "type": "table"
           }
          ]
         },
         "layout": {
          "annotationdefaults": {
           "arrowcolor": "#2a3f5f",
           "arrowhead": 0,
           "arrowwidth": 1
          },
          "autotypenumbers": "strict",
          "coloraxis": {
           "colorbar": {
            "outlinewidth": 0,
            "ticks": ""
           }
          },
          "colorscale": {
           "diverging": [
            [
             0,
             "#8e0152"
            ],
            [
             0.1,
             "#c51b7d"
            ],
            [
             0.2,
             "#de77ae"
            ],
            [
             0.3,
             "#f1b6da"
            ],
            [
             0.4,
             "#fde0ef"
            ],
            [
             0.5,
             "#f7f7f7"
            ],
            [
             0.6,
             "#e6f5d0"
            ],
            [
             0.7,
             "#b8e186"
            ],
            [
             0.8,
             "#7fbc41"
            ],
            [
             0.9,
             "#4d9221"
            ],
            [
             1,
             "#276419"
            ]
           ],
           "sequential": [
            [
             0,
             "#0d0887"
            ],
            [
             0.1111111111111111,
             "#46039f"
            ],
            [
             0.2222222222222222,
             "#7201a8"
            ],
            [
             0.3333333333333333,
             "#9c179e"
            ],
            [
             0.4444444444444444,
             "#bd3786"
            ],
            [
             0.5555555555555556,
             "#d8576b"
            ],
            [
             0.6666666666666666,
             "#ed7953"
            ],
            [
             0.7777777777777778,
             "#fb9f3a"
            ],
            [
             0.8888888888888888,
             "#fdca26"
            ],
            [
             1,
             "#f0f921"
            ]
           ],
           "sequentialminus": [
            [
             0,
             "#0d0887"
            ],
            [
             0.1111111111111111,
             "#46039f"
            ],
            [
             0.2222222222222222,
             "#7201a8"
            ],
            [
             0.3333333333333333,
             "#9c179e"
            ],
            [
             0.4444444444444444,
             "#bd3786"
            ],
            [
             0.5555555555555556,
             "#d8576b"
            ],
            [
             0.6666666666666666,
             "#ed7953"
            ],
            [
             0.7777777777777778,
             "#fb9f3a"
            ],
            [
             0.8888888888888888,
             "#fdca26"
            ],
            [
             1,
             "#f0f921"
            ]
           ]
          },
          "colorway": [
           "#636efa",
           "#EF553B",
           "#00cc96",
           "#ab63fa",
           "#FFA15A",
           "#19d3f3",
           "#FF6692",
           "#B6E880",
           "#FF97FF",
           "#FECB52"
          ],
          "font": {
           "color": "#2a3f5f"
          },
          "geo": {
           "bgcolor": "white",
           "lakecolor": "white",
           "landcolor": "#E5ECF6",
           "showlakes": true,
           "showland": true,
           "subunitcolor": "white"
          },
          "hoverlabel": {
           "align": "left"
          },
          "hovermode": "closest",
          "mapbox": {
           "style": "light"
          },
          "paper_bgcolor": "white",
          "plot_bgcolor": "#E5ECF6",
          "polar": {
           "angularaxis": {
            "gridcolor": "white",
            "linecolor": "white",
            "ticks": ""
           },
           "bgcolor": "#E5ECF6",
           "radialaxis": {
            "gridcolor": "white",
            "linecolor": "white",
            "ticks": ""
           }
          },
          "scene": {
           "xaxis": {
            "backgroundcolor": "#E5ECF6",
            "gridcolor": "white",
            "gridwidth": 2,
            "linecolor": "white",
            "showbackground": true,
            "ticks": "",
            "zerolinecolor": "white"
           },
           "yaxis": {
            "backgroundcolor": "#E5ECF6",
            "gridcolor": "white",
            "gridwidth": 2,
            "linecolor": "white",
            "showbackground": true,
            "ticks": "",
            "zerolinecolor": "white"
           },
           "zaxis": {
            "backgroundcolor": "#E5ECF6",
            "gridcolor": "white",
            "gridwidth": 2,
            "linecolor": "white",
            "showbackground": true,
            "ticks": "",
            "zerolinecolor": "white"
           }
          },
          "shapedefaults": {
           "line": {
            "color": "#2a3f5f"
           }
          },
          "ternary": {
           "aaxis": {
            "gridcolor": "white",
            "linecolor": "white",
            "ticks": ""
           },
           "baxis": {
            "gridcolor": "white",
            "linecolor": "white",
            "ticks": ""
           },
           "bgcolor": "#E5ECF6",
           "caxis": {
            "gridcolor": "white",
            "linecolor": "white",
            "ticks": ""
           }
          },
          "title": {
           "x": 0.05
          },
          "xaxis": {
           "automargin": true,
           "gridcolor": "white",
           "linecolor": "white",
           "ticks": "",
           "title": {
            "standoff": 15
           },
           "zerolinecolor": "white",
           "zerolinewidth": 2
          },
          "yaxis": {
           "automargin": true,
           "gridcolor": "white",
           "linecolor": "white",
           "ticks": "",
           "title": {
            "standoff": 15
           },
           "zerolinecolor": "white",
           "zerolinewidth": 2
          }
         }
        },
        "title": {
         "text": "Distribución de llamadas salientes por operador"
        },
        "xaxis": {
         "anchor": "y",
         "domain": [
          0,
          1
         ]
        },
        "yaxis": {
         "anchor": "x",
         "domain": [
          0,
          1
         ],
         "title": {
          "text": "calls_count"
         }
        }
       }
      },
      "image/png": "[encoded data removed]",
      "text/html": [
       "<div>                            <div id=\"ba0d71eb-6b35-4ff3-9484-986f956ada47\" class=\"plotly-graph-div\" style=\"height:525px; width:100%;\"></div>            <script type=\"text/javascript\">                require([\"plotly\"], function(Plotly) {                    window.PLOTLYENV=window.PLOTLYENV || {};                                    if (document.getElementById(\"ba0d71eb-6b35-4ff3-9484-986f956ada47\")) {                    Plotly.newPlot(                        \"ba0d71eb-6b35-4ff3-9484-986f956ada47\",                        [{\"alignmentgroup\":\"True\",\"hovertemplate\":\"calls_count=%{y}<extra></extra>\",\"legendgroup\":\"\",\"marker\":{\"color\":\"#636efa\"},\"name\":\"\",\"notched\":false,\"offsetgroup\":\"\",\"orientation\":\"v\",\"showlegend\":false,\"x0\":\" \",\"xaxis\":\"x\",\"y\":[1,1,1,1,1,1,1,1,1,1,1,1,1,1,1,1,1,1,1,1,1,1,1,1,1,1,1,1,1,1,1,1,1,1,1,1,1,1,1,1,1,1,1,1,1,1,1,1,1,1,1,1,1,1,1,2,2,2,2,2,2,2,2,2,2,2,2,2,2,2,2,2,2,2,2,2,2,2,2,2,2,2,2,2,2,3,3,3,3,3,3,3,3,3,3,3,3,3,3,3,3,3,3,3,3,3,3,3,4,4,4,4,4,4,4,4,4,4,4,4,4,4,4,4,4,5,5,5,5,5,5,5,5,5,5,5,6,6,6,6,6,6,6,6,6,7,7,7,7,7,7,7,7,7,7,7,7,8,8,8,8,8,8,8,8,8,8,8,8,9,9,9,9,9,9,9,9,9,9,9,9,9,10,10,10,10,10,10,10,10,10,10,10,10,10,10,11,11,11,11,11,11,11,11,11,11,11,11,11,11,12,12,12,12,12,12,12,12,12,13,13,13,13,13,13,13,13,13,14,14,14,14,14,14,14,15,15,15,15,15,16,16,16,16,16,16,16,17,17,17,17,17,17,17,17,17,17,17,18,18,19,19,19,20,20,20,20,20,20,20,21,21,21,21,21,21,21,21,22,22,22,22,23,23,23,24,24,25,25,25,25,25,25,25,26,26,26,27,27,28,28,28,28,28,28,29,29,30,30,30,30,30,30,31,32,32,32,33,33,33,33,33,33,33,33,34,34,34,34,35,35,36,36,36,36,36,37,37,37,38,38,39,40,40,41,41,41,42,43,43,44,46,46,47,47,48,48,48,48,49,49,51,51,51,53,53,53,53,54,54,55,55,55,56,56,56,56,56,58,58,59,59,59,60,60,60,61,61,61,61,62,62,64,66,66,66,67,67,68,68,68,69,69,70,70,73,76,76,76,77,77,78,78,79,82,83,83,84,84,85,85,86,86,87,87,89,89,90,90,90,91,91,92,93,93,93,95,96,97,98,100,102,102,103,105,106,106,107,108,108,109,109,110,113,114,114,116,117,118,120,120,121,122,122,123,123,125,127,130,131,132,134,134,138,142,143,143,143,143,144,144,145,145,147,147,147,149,153,156,156,161,161,166,170,171,171,171,172,174,175,175,176,176,176,178,179,180,182,187,189,189,190,191,193,194,194,195,199,201,202,206,207,209,210,210,211,214,215,215,215,218,219,219,221,222,227,228,228,230,230,230,231,231,232,241,242,246,246,246,249,252,258,259,262,265,265,267,268,269,274,275,277,278,278,279,284,286,287,290,291,294,296,303,303,304,305,305,308,308,309,310,311,312,317,321,322,324,326,327,328,329,336,337,337,341,344,348,353,354,359,368,371,372,374,374,376,377,377,388,391,396,396,407,407,416,417,426,426,432,436,440,458,462,468,470,470,474,475,479,484,487,488,489,491,492,494,494,501,503,511,518,528,534,535,538,539,548,549,549,574,575,575,592,599,602,603,603,607,614,621,655,655,657,659,664,671,673,676,686,691,692,706,721,729,731,742,746,750,756,758,761,762,773,776,779,782,784,792,814,815,817,831,835,843,856,864,865,865,865,875,876,877,893,904,910,910,919,921,939,945,959,959,962,963,968,968,975,995,1014,1020,1023,1027,1029,1071,1077,1104,1113,1114,1126,1128,1134,1145,1184,1189,1205,1213,1217,1220,1227,1232,1239,1251,1266,1277,1277,1282,1285,1296,1297,1311,1324,1327,1332,1342,1342,1344,1346,1347,1353,1360,1367,1380,1380,1415,1429,1468,1473,1484,1502,1506,1516,1517,1531,1549,1554,1557,1565,1583,1590,1600,1623,1627,1636,1659,1664,1670,1697,1710,1738,1743,1760,1761,1778,1784,1791,1803,1805,1824,1827,1846,1850,1861,1887,1956,1980,1984,1998,2030,2037,2045,2074,2105,2151,2173,2210,2214,2214,2225,2228,2232,2233,2254,2260,2306,2336,2393,2414,2423,2519,2528,2538,2546,2561,2569,2582,2591,2605,2610,2617,2619,2691,2701,2748,2751,2794,2821,2831,2836,2846,2853,2855,2863,2864,2896,2918,2933,3031,3071,3094,3310,3396,3434,3457,3579,3580,3938,3943,4006,4080,4314,4817,5015,5096,5120,7059,7856,7919,12041,16699,21754,24572,64653,64897],\"y0\":\" \",\"yaxis\":\"y\",\"type\":\"box\"}],                        {\"template\":{\"data\":{\"bar\":[{\"error_x\":{\"color\":\"#2a3f5f\"},\"error_y\":{\"color\":\"#2a3f5f\"},\"marker\":{\"line\":{\"color\":\"#E5ECF6\",\"width\":0.5},\"pattern\":{\"fillmode\":\"overlay\",\"size\":10,\"solidity\":0.2}},\"type\":\"bar\"}],\"barpolar\":[{\"marker\":{\"line\":{\"color\":\"#E5ECF6\",\"width\":0.5},\"pattern\":{\"fillmode\":\"overlay\",\"size\":10,\"solidity\":0.2}},\"type\":\"barpolar\"}],\"carpet\":[{\"aaxis\":{\"endlinecolor\":\"#2a3f5f\",\"gridcolor\":\"white\",\"linecolor\":\"white\",\"minorgridcolor\":\"white\",\"startlinecolor\":\"#2a3f5f\"},\"baxis\":{\"endlinecolor\":\"#2a3f5f\",\"gridcolor\":\"white\",\"linecolor\":\"white\",\"minorgridcolor\":\"white\",\"startlinecolor\":\"#2a3f5f\"},\"type\":\"carpet\"}],\"choropleth\":[{\"colorbar\":{\"outlinewidth\":0,\"ticks\":\"\"},\"type\":\"choropleth\"}],\"contour\":[{\"colorbar\":{\"outlinewidth\":0,\"ticks\":\"\"},\"colorscale\":[[0.0,\"#0d0887\"],[0.1111111111111111,\"#46039f\"],[0.2222222222222222,\"#7201a8\"],[0.3333333333333333,\"#9c179e\"],[0.4444444444444444,\"#bd3786\"],[0.5555555555555556,\"#d8576b\"],[0.6666666666666666,\"#ed7953\"],[0.7777777777777778,\"#fb9f3a\"],[0.8888888888888888,\"#fdca26\"],[1.0,\"#f0f921\"]],\"type\":\"contour\"}],\"contourcarpet\":[{\"colorbar\":{\"outlinewidth\":0,\"ticks\":\"\"},\"type\":\"contourcarpet\"}],\"heatmap\":[{\"colorbar\":{\"outlinewidth\":0,\"ticks\":\"\"},\"colorscale\":[[0.0,\"#0d0887\"],[0.1111111111111111,\"#46039f\"],[0.2222222222222222,\"#7201a8\"],[0.3333333333333333,\"#9c179e\"],[0.4444444444444444,\"#bd3786\"],[0.5555555555555556,\"#d8576b\"],[0.6666666666666666,\"#ed7953\"],[0.7777777777777778,\"#fb9f3a\"],[0.8888888888888888,\"#fdca26\"],[1.0,\"#f0f921\"]],\"type\":\"heatmap\"}],\"heatmapgl\":[{\"colorbar\":{\"outlinewidth\":0,\"ticks\":\"\"},\"colorscale\":[[0.0,\"#0d0887\"],[0.1111111111111111,\"#46039f\"],[0.2222222222222222,\"#7201a8\"],[0.3333333333333333,\"#9c179e\"],[0.4444444444444444,\"#bd3786\"],[0.5555555555555556,\"#d8576b\"],[0.6666666666666666,\"#ed7953\"],[0.7777777777777778,\"#fb9f3a\"],[0.8888888888888888,\"#fdca26\"],[1.0,\"#f0f921\"]],\"type\":\"heatmapgl\"}],\"histogram\":[{\"marker\":{\"pattern\":{\"fillmode\":\"overlay\",\"size\":10,\"solidity\":0.2}},\"type\":\"histogram\"}],\"histogram2d\":[{\"colorbar\":{\"outlinewidth\":0,\"ticks\":\"\"},\"colorscale\":[[0.0,\"#0d0887\"],[0.1111111111111111,\"#46039f\"],[0.2222222222222222,\"#7201a8\"],[0.3333333333333333,\"#9c179e\"],[0.4444444444444444,\"#bd3786\"],[0.5555555555555556,\"#d8576b\"],[0.6666666666666666,\"#ed7953\"],[0.7777777777777778,\"#fb9f3a\"],[0.8888888888888888,\"#fdca26\"],[1.0,\"#f0f921\"]],\"type\":\"histogram2d\"}],\"histogram2dcontour\":[{\"colorbar\":{\"outlinewidth\":0,\"ticks\":\"\"},\"colorscale\":[[0.0,\"#0d0887\"],[0.1111111111111111,\"#46039f\"],[0.2222222222222222,\"#7201a8\"],[0.3333333333333333,\"#9c179e\"],[0.4444444444444444,\"#bd3786\"],[0.5555555555555556,\"#d8576b\"],[0.6666666666666666,\"#ed7953\"],[0.7777777777777778,\"#fb9f3a\"],[0.8888888888888888,\"#fdca26\"],[1.0,\"#f0f921\"]],\"type\":\"histogram2dcontour\"}],\"mesh3d\":[{\"colorbar\":{\"outlinewidth\":0,\"ticks\":\"\"},\"type\":\"mesh3d\"}],\"parcoords\":[{\"line\":{\"colorbar\":{\"outlinewidth\":0,\"ticks\":\"\"}},\"type\":\"parcoords\"}],\"pie\":[{\"automargin\":true,\"type\":\"pie\"}],\"scatter\":[{\"marker\":{\"colorbar\":{\"outlinewidth\":0,\"ticks\":\"\"}},\"type\":\"scatter\"}],\"scatter3d\":[{\"line\":{\"colorbar\":{\"outlinewidth\":0,\"ticks\":\"\"}},\"marker\":{\"colorbar\":{\"outlinewidth\":0,\"ticks\":\"\"}},\"type\":\"scatter3d\"}],\"scattercarpet\":[{\"marker\":{\"colorbar\":{\"outlinewidth\":0,\"ticks\":\"\"}},\"type\":\"scattercarpet\"}],\"scattergeo\":[{\"marker\":{\"colorbar\":{\"outlinewidth\":0,\"ticks\":\"\"}},\"type\":\"scattergeo\"}],\"scattergl\":[{\"marker\":{\"colorbar\":{\"outlinewidth\":0,\"ticks\":\"\"}},\"type\":\"scattergl\"}],\"scattermapbox\":[{\"marker\":{\"colorbar\":{\"outlinewidth\":0,\"ticks\":\"\"}},\"type\":\"scattermapbox\"}],\"scatterpolar\":[{\"marker\":{\"colorbar\":{\"outlinewidth\":0,\"ticks\":\"\"}},\"type\":\"scatterpolar\"}],\"scatterpolargl\":[{\"marker\":{\"colorbar\":{\"outlinewidth\":0,\"ticks\":\"\"}},\"type\":\"scatterpolargl\"}],\"scatterternary\":[{\"marker\":{\"colorbar\":{\"outlinewidth\":0,\"ticks\":\"\"}},\"type\":\"scatterternary\"}],\"surface\":[{\"colorbar\":{\"outlinewidth\":0,\"ticks\":\"\"},\"colorscale\":[[0.0,\"#0d0887\"],[0.1111111111111111,\"#46039f\"],[0.2222222222222222,\"#7201a8\"],[0.3333333333333333,\"#9c179e\"],[0.4444444444444444,\"#bd3786\"],[0.5555555555555556,\"#d8576b\"],[0.6666666666666666,\"#ed7953\"],[0.7777777777777778,\"#fb9f3a\"],[0.8888888888888888,\"#fdca26\"],[1.0,\"#f0f921\"]],\"type\":\"surface\"}],\"table\":[{\"cells\":{\"fill\":{\"color\":\"#EBF0F8\"},\"line\":{\"color\":\"white\"}},\"header\":{\"fill\":{\"color\":\"#C8D4E3\"},\"line\":{\"color\":\"white\"}},\"type\":\"table\"}]},\"layout\":{\"annotationdefaults\":{\"arrowcolor\":\"#2a3f5f\",\"arrowhead\":0,\"arrowwidth\":1},\"autotypenumbers\":\"strict\",\"coloraxis\":{\"colorbar\":{\"outlinewidth\":0,\"ticks\":\"\"}},\"colorscale\":{\"diverging\":[[0,\"#8e0152\"],[0.1,\"#c51b7d\"],[0.2,\"#de77ae\"],[0.3,\"#f1b6da\"],[0.4,\"#fde0ef\"],[0.5,\"#f7f7f7\"],[0.6,\"#e6f5d0\"],[0.7,\"#b8e186\"],[0.8,\"#7fbc41\"],[0.9,\"#4d9221\"],[1,\"#276419\"]],\"sequential\":[[0.0,\"#0d0887\"],[0.1111111111111111,\"#46039f\"],[0.2222222222222222,\"#7201a8\"],[0.3333333333333333,\"#9c179e\"],[0.4444444444444444,\"#bd3786\"],[0.5555555555555556,\"#d8576b\"],[0.6666666666666666,\"#ed7953\"],[0.7777777777777778,\"#fb9f3a\"],[0.8888888888888888,\"#fdca26\"],[1.0,\"#f0f921\"]],\"sequentialminus\":[[0.0,\"#0d0887\"],[0.1111111111111111,\"#46039f\"],[0.2222222222222222,\"#7201a8\"],[0.3333333333333333,\"#9c179e\"],[0.4444444444444444,\"#bd3786\"],[0.5555555555555556,\"#d8576b\"],[0.6666666666666666,\"#ed7953\"],[0.7777777777777778,\"#fb9f3a\"],[0.8888888888888888,\"#fdca26\"],[1.0,\"#f0f921\"]]},\"colorway\":[\"#636efa\",\"#EF553B\",\"#00cc96\",\"#ab63fa\",\"#FFA15A\",\"#19d3f3\",\"#FF6692\",\"#B6E880\",\"#FF97FF\",\"#FECB52\"],\"font\":{\"color\":\"#2a3f5f\"},\"geo\":{\"bgcolor\":\"white\",\"lakecolor\":\"white\",\"landcolor\":\"#E5ECF6\",\"showlakes\":true,\"showland\":true,\"subunitcolor\":\"white\"},\"hoverlabel\":{\"align\":\"left\"},\"hovermode\":\"closest\",\"mapbox\":{\"style\":\"light\"},\"paper_bgcolor\":\"white\",\"plot_bgcolor\":\"#E5ECF6\",\"polar\":{\"angularaxis\":{\"gridcolor\":\"white\",\"linecolor\":\"white\",\"ticks\":\"\"},\"bgcolor\":\"#E5ECF6\",\"radialaxis\":{\"gridcolor\":\"white\",\"linecolor\":\"white\",\"ticks\":\"\"}},\"scene\":{\"xaxis\":{\"backgroundcolor\":\"#E5ECF6\",\"gridcolor\":\"white\",\"gridwidth\":2,\"linecolor\":\"white\",\"showbackground\":true,\"ticks\":\"\",\"zerolinecolor\":\"white\"},\"yaxis\":{\"backgroundcolor\":\"#E5ECF6\",\"gridcolor\":\"white\",\"gridwidth\":2,\"linecolor\":\"white\",\"showbackground\":true,\"ticks\":\"\",\"zerolinecolor\":\"white\"},\"zaxis\":{\"backgroundcolor\":\"#E5ECF6\",\"gridcolor\":\"white\",\"gridwidth\":2,\"linecolor\":\"white\",\"showbackground\":true,\"ticks\":\"\",\"zerolinecolor\":\"white\"}},\"shapedefaults\":{\"line\":{\"color\":\"#2a3f5f\"}},\"ternary\":{\"aaxis\":{\"gridcolor\":\"white\",\"linecolor\":\"white\",\"ticks\":\"\"},\"baxis\":{\"gridcolor\":\"white\",\"linecolor\":\"white\",\"ticks\":\"\"},\"bgcolor\":\"#E5ECF6\",\"caxis\":{\"gridcolor\":\"white\",\"linecolor\":\"white\",\"ticks\":\"\"}},\"title\":{\"x\":0.05},\"xaxis\":{\"automargin\":true,\"gridcolor\":\"white\",\"linecolor\":\"white\",\"ticks\":\"\",\"title\":{\"standoff\":15},\"zerolinecolor\":\"white\",\"zerolinewidth\":2},\"yaxis\":{\"automargin\":true,\"gridcolor\":\"white\",\"linecolor\":\"white\",\"ticks\":\"\",\"title\":{\"standoff\":15},\"zerolinecolor\":\"white\",\"zerolinewidth\":2}}},\"xaxis\":{\"anchor\":\"y\",\"domain\":[0.0,1.0]},\"yaxis\":{\"anchor\":\"x\",\"domain\":[0.0,1.0],\"title\":{\"text\":\"calls_count\"}},\"legend\":{\"tracegroupgap\":0},\"title\":{\"text\":\"Distribuci\\u00f3n de llamadas salientes por operador\"},\"boxmode\":\"group\"},                        {\"responsive\": true}                    ).then(function(){\n",
       "                            \n",
       "var gd = document.getElementById('ba0d71eb-6b35-4ff3-9484-986f956ada47');\n",
       "var x = new MutationObserver(function (mutations, observer) {{\n",
       "        var display = window.getComputedStyle(gd).display;\n",
       "        if (!display || display === 'none') {{\n",
       "            console.log([gd, 'removed!']);\n",
       "            Plotly.purge(gd);\n",
       "            observer.disconnect();\n",
       "        }}\n",
       "}});\n",
       "\n",
       "// Listen for the removal of the full notebook cells\n",
       "var notebookContainer = gd.closest('#notebook-container');\n",
       "if (notebookContainer) {{\n",
       "    x.observe(notebookContainer, {childList: true});\n",
       "}}\n",
       "\n",
       "// Listen for the clearing of the current output cell\n",
       "var outputEl = gd.closest('.output');\n",
       "if (outputEl) {{\n",
       "    x.observe(outputEl, {childList: true});\n",
       "}}\n",
       "\n",
       "                        })                };                });            </script>        </div>"
      ]
     },
     "metadata": {},
     "output_type": "display_data"
    }
   ],
   "source": [
    "# Crear gráfico de caja dinámico para llamadas salientes\n",
    "fig = px.box(operator_outgoing_calls_sorted, y=\"calls_count\", title=\"Distribución de llamadas salientes por operador\")\n",
    "\n",
    "# Mostrar gráfico interactivo\n",
    "fig.show()"
   ]
  },
  {
   "cell_type": "markdown",
   "metadata": {},
   "source": [
    "Podemos ver que los valores fuera de los bigotes, son operadores que podrían tener un desempeño significativamente bajo."
   ]
  },
  {
   "cell_type": "markdown",
   "metadata": {},
   "source": [
    "### Afectación de los operadores ineficaces a la experiencia del cliente"
   ]
  },
  {
   "cell_type": "code",
   "execution_count": 233,
   "metadata": {},
   "outputs": [
    {
     "name": "stdout",
     "output_type": "stream",
     "text": [
      "    operator_id  missed_call_rate  avg_wait_time\n",
      "641    948756.0          1.000000       8.000000\n",
      "287    913886.0          0.500000      13.500000\n",
      "467    934098.0          0.333333      31.800000\n",
      "698    957922.0          0.333333      13.000000\n",
      "497    937432.0          0.333333      12.000000\n",
      "185    904344.0          0.285714      31.000000\n",
      "109    897872.0          0.250000      20.500000\n",
      "431    930242.0          0.250000      17.250000\n",
      "265    910226.0          0.250000      16.500000\n",
      "338    919896.0          0.250000      15.571429\n"
     ]
    }
   ],
   "source": [
    "# Filtrar operadores no identificados\n",
    "telecom_data_filtered = telecom_data[telecom_data[\"operator_id\"] != \"Op_no_identific\"]\n",
    "\n",
    "# Filtrar solo llamadas entrantes\n",
    "incoming_calls = telecom_data[telecom_data[\"direction\"] == \"in\"]\n",
    "\n",
    "# Calcular la tasa de llamadas perdidas por operador\n",
    "missed_calls_by_operator = incoming_calls.groupby(\"operator_id\")[\"is_missed_call\"].sum()\n",
    "total_calls_by_operator = incoming_calls.groupby(\"operator_id\")[\"calls_count\"].sum()\n",
    "\n",
    "# Calcular la tasa de llamadas perdidas\n",
    "operator_missed_call_rate = (missed_calls_by_operator / total_calls_by_operator).reset_index()\n",
    "operator_missed_call_rate.columns = [\"operator_id\", \"missed_call_rate\"]\n",
    "\n",
    "# Calcular el tiempo de espera promedio por operador\n",
    "operator_avg_wait_time = incoming_calls.groupby(\"operator_id\")[\"avg_wait_time\"].mean().reset_index()\n",
    "operator_avg_wait_time.columns = [\"operator_id\", \"avg_wait_time\"]\n",
    "\n",
    "# Unir ambos resultados en un solo dataframe\n",
    "operator_inefficiency = pd.merge(operator_missed_call_rate, operator_avg_wait_time, on=\"operator_id\")\n",
    "\n",
    "# Mostrar los primeros operadores con peor desempeño\n",
    "print(operator_inefficiency.sort_values(by=[\"missed_call_rate\", \"avg_wait_time\"], ascending=False).head(10))\n",
    "\n"
   ]
  },
  {
   "cell_type": "code",
   "execution_count": 234,
   "metadata": {},
   "outputs": [
    {
     "data": {
      "image/png": "[encoded data removed]",
      "text/plain": [
       "<Figure size 1000x600 with 1 Axes>"
      ]
     },
     "metadata": {},
     "output_type": "display_data"
    }
   ],
   "source": [
    "# Crear gráfico de dispersión\n",
    "plt.figure(figsize=(10, 6))\n",
    "sns.scatterplot(x=operator_inefficiency[\"missed_call_rate\"], y=operator_inefficiency[\"avg_wait_time\"])\n",
    "plt.xlabel(\"Tasa de llamadas perdidas\")\n",
    "plt.ylabel(\"Tiempo de espera promedio (min)\")\n",
    "plt.title(\"Relación entre llamadas perdidas y tiempo de espera\")\n",
    "plt.show()"
   ]
  },
  {
   "cell_type": "markdown",
   "metadata": {},
   "source": [
    "Nos permitirá identificar si los operadores con mayor tasa de llamadas perdidas también tienen tiempos de espera más largos. Si hay una tendencia ascendente, esto sugiere una relación directa entre la ineficacia en atender llamadas y la cantidad de llamadas perdidas.\n",
    "operadores tienen problemas en la atención de llamadas, tanto por perder demasiadas llamadas como por tener tiempos de espera excesivos. Estos datos pueden ser clave para mejorar el servicio al cliente."
   ]
  },
  {
   "cell_type": "markdown",
   "metadata": {},
   "source": [
    "**- Tiempos de espera prolongados:**\n",
    "\n",
    "Si los operadores tardan demasiado en atender las llamadas, los clientes pueden impacientarse y colgar antes de recibir ayuda.\n",
    "Esto puede generar una percepción de que la empresa no es eficiente, disminuyendo la satisfacción del cliente.\n",
    "\n",
    "**- Altas tasas de llamadas perdidas:**\n",
    "\n",
    "Cuando un operador no responde a las llamadas entrantes con suficiente rapidez, la cantidad de llamadas perdidas aumenta.\n",
    "Los clientes pueden sentir que su solicitud no es prioritaria o que la empresa no tiene un servicio confiable.\n",
    "\n",
    "**- Mala gestión de llamadas salientes:**\n",
    "\n",
    "Si un operador tiene asignada la tarea de realizar llamadas salientes pero no las cumple eficientemente, la empresa puede perder oportunidades de negocio o afectar la comunicación con sus clientes.\n",
    "Esto es especialmente problemático en sectores como ventas o soporte técnico.\n",
    "\n",
    "**- Experiencia inconsistente:**\n",
    "\n",
    "Si algunos operadores son mucho menos eficaces que otros, los clientes pueden recibir respuestas lentas o de menor calidad según quién atienda la llamada.\n",
    "Esto hace que el servicio sea impredecible, afectando la percepción global de la empresa.\n",
    "\n",
    "**- Aumento de quejas y baja fidelización:**\n",
    "\n",
    "Clientes insatisfechos tienden a presentar más quejas y buscar alternativas, lo que puede llevar a la empresa a perder clientes a largo plazo.\n",
    "Un mal servicio telefónico puede ser determinante en la decisión de permanecer con una compañía o buscar otra opción."
   ]
  },
  {
   "cell_type": "markdown",
   "metadata": {},
   "source": [
    "<div class=\"alert alert-block alert-danger\">\n",
    "<b>Comentario del revisor (1ra Iteracion)</b> <a class=“tocSkip”></a>\n",
    "\n",
    "Aquí hay dos puntos con oportunidad de mejora:\n",
    "\n",
    "1. Antes de pasar a calcular cualquier cosa deberías primero analizar las variables que tienes disponibles, ver sus distribuciones, etc para saber cómo clasificar operadores ineficientes.\n",
    "2. ¿En base a que se decidió que sólo ordenando y tomando los primeros 10 ya es suficiente para determinar ineficiencia? ¿No deberían quedar separados en dos grupos diferentes? Hay que dejar claro este tipo de decisiones\n",
    "</div>"
   ]
  },
  {
   "cell_type": "markdown",
   "metadata": {},
   "source": [
    "<div class=\"alert alert-block alert-info\">\n",
    "<b>Muchas gracias por la retroalimentación. Se realizo un analisis de las variables y asi determinar grupos los cuales son : los operadores con mas tiempo de espera, operadores que tienen bajo numero de llamada saliente y operadores ineficaces que afecten el servivio al cliente. Se ordeno anteriormente asi por hacerlo general es mucho los datos para hacer un histograma con todos los operadores </b> <a class=“tocSkip”></a>\n",
    "</div>"
   ]
  },
  {
   "cell_type": "markdown",
   "metadata": {},
   "source": [
    "<div class=\"alert alert-block alert-danger\">\n",
    "<b>Comentario del revisor (1ra Iteracion)</b> <a class=“tocSkip”></a>\n",
    "\n",
    "No es muy buena práctica mostrar sólo una parte de los resultados ya que esto puede sesgar el análisis. Lo correcto sería analizarlo de manera más general cómo con histogramas, diagramas de cajas por cada grupo y así.\n",
    "</div>"
   ]
  },
  {
   "cell_type": "markdown",
   "metadata": {},
   "source": [
    "<div class=\"alert alert-block alert-info\">\n",
    "<b>Se incluye dentro del analisis los diagramas de caja dinamicos con uso de plotly, tambien graficos de dispercion y matriz de correlacion </b> <a class=“tocSkip”></a>\n",
    "</div>"
   ]
  },
  {
   "cell_type": "markdown",
   "metadata": {},
   "source": [
    "### Graficos Adicionales "
   ]
  },
  {
   "cell_type": "code",
   "execution_count": 235,
   "metadata": {},
   "outputs": [
    {
     "data": {
      "image/png": "[encoded data removed]",
      "text/plain": [
       "<Figure size 1000x600 with 1 Axes>"
      ]
     },
     "metadata": {},
     "output_type": "display_data"
    }
   ],
   "source": [
    "# Crear histograma de duración promedio de llamadas\n",
    "plt.figure(figsize=(10, 6))\n",
    "plt.hist(telecom_data[\"avg_call_duration\"], bins=30, color=\"cornflowerblue\", edgecolor=\"black\")\n",
    "plt.xlabel(\"Duración promedio de llamadas (min)\")\n",
    "plt.ylabel(\"Frecuencia\")\n",
    "plt.title(\"Distribución de duración promedio de llamadas\")\n",
    "plt.show()"
   ]
  },
  {
   "cell_type": "markdown",
   "metadata": {},
   "source": [
    "Este gráfico ayudará a visualizar si la mayoría de las llamadas tienen una duración corta o si hay casos extremos que podrían ser indicativos de problemas de eficiencia. Si ves una gran concentración en valores bajos, los operadores podrían estar manejando llamadas demasiado rápidas, lo que puede afectar la calidad del servicio."
   ]
  },
  {
   "cell_type": "code",
   "execution_count": 236,
   "metadata": {},
   "outputs": [
    {
     "data": {
      "image/png": "[encoded data removed]",
      "text/plain": [
       "<Figure size 800x500 with 1 Axes>"
      ]
     },
     "metadata": {},
     "output_type": "display_data"
    }
   ],
   "source": [
    "# Calcular duración promedio de llamadas por tipo de dirección\n",
    "avg_call_duration = telecom_data.groupby(\"direction\")[\"call_duration\"].mean().reset_index()\n",
    "\n",
    "# Graficar histograma\n",
    "plt.figure(figsize=(8, 5))\n",
    "sns.barplot(x=avg_call_duration[\"direction\"], y=avg_call_duration[\"call_duration\"], palette=\"Blues\")\n",
    "\n",
    "# Mejorar etiquetas y título\n",
    "plt.title(\"Duración promedio de llamadas según la dirección\")\n",
    "plt.xlabel(\"Dirección de la llamada (Entrante o Saliente)\")\n",
    "plt.ylabel(\"Duración promedio (segundos)\")\n",
    "plt.grid()\n",
    "\n",
    "plt.show()"
   ]
  },
  {
   "cell_type": "markdown",
   "metadata": {},
   "source": [
    "Mostrará si hay diferencias en la duración promedio entre llamadas entrantes y salientes."
   ]
  },
  {
   "cell_type": "markdown",
   "metadata": {},
   "source": []
  },
  {
   "cell_type": "code",
   "execution_count": 237,
   "metadata": {},
   "outputs": [
    {
     "data": {
      "image/png": "[encoded data removed]",
      "text/plain": [
       "<Figure size 800x600 with 1 Axes>"
      ]
     },
     "metadata": {},
     "output_type": "display_data"
    }
   ],
   "source": [
    "# Contar llamadas internas y externas\n",
    "internal_calls = telecom_data[telecom_data[\"internal\"] == True][\"calls_count\"].sum()\n",
    "external_calls = telecom_data[telecom_data[\"internal\"] == False][\"calls_count\"].sum()\n",
    "\n",
    "# Definir etiquetas y datos\n",
    "labels = [\"Llamadas Internas\", \"Llamadas Externas\"]\n",
    "sizes = [internal_calls, external_calls]\n",
    "colors = [\"lightblue\", \"lightcoral\"]\n",
    "\n",
    "# Crear gráfico circular\n",
    "plt.figure(figsize=(8, 6))\n",
    "plt.pie(sizes, labels=labels, autopct=\"%1.1f%%\", colors=colors, startangle=90, wedgeprops={\"edgecolor\": \"black\"})\n",
    "plt.title(\"Proporción de Llamadas Internas y Externas\")\n",
    "plt.show()"
   ]
  },
  {
   "cell_type": "markdown",
   "metadata": {},
   "source": [
    "Muestra la participación de cada tipo de llamada en el total del servicio de telefonía. Si las llamadas internas tienen una proporción muy baja, podría indicar que los operadores no se comunican entre ellos con frecuencia."
   ]
  },
  {
   "cell_type": "code",
   "execution_count": 238,
   "metadata": {},
   "outputs": [
    {
     "data": {
      "image/png": "[encoded data removed]",
      "text/plain": [
       "<Figure size 1200x600 with 1 Axes>"
      ]
     },
     "metadata": {},
     "output_type": "display_data"
    }
   ],
   "source": [
    "# Convertir la columna de fechas a formato datetime\n",
    "telecom_data[\"date\"] = pd.to_datetime(telecom_data[\"date\"])\n",
    "\n",
    "# Agrupar por fecha y sumar el número de llamadas\n",
    "calls_per_day = telecom_data.groupby(\"date\")[\"calls_count\"].sum()\n",
    "\n",
    "# Crear gráfico de línea\n",
    "plt.figure(figsize=(12, 6))\n",
    "plt.plot(calls_per_day.index, calls_per_day.values, marker=\"o\", linestyle=\"-\", color=\"royalblue\")\n",
    "plt.xlabel(\"Fecha\")\n",
    "plt.ylabel(\"Número de llamadas\")\n",
    "plt.title(\"Evolución del número de llamadas por día\")\n",
    "plt.xticks(rotation=45)\n",
    "plt.grid(True)\n",
    "plt.show()"
   ]
  },
  {
   "cell_type": "markdown",
   "metadata": {},
   "source": [
    "Muestra la evolución de las llamadas a lo largo del tiempo. Si observamos picos o caídas significativas, podríamos investigar posibles razones, como días festivos, horarios de alta demanda o problemas técnicos."
   ]
  },
  {
   "cell_type": "code",
   "execution_count": 239,
   "metadata": {},
   "outputs": [
    {
     "data": {
      "image/png": "[encoded data removed]",
      "text/plain": [
       "<Figure size 1200x600 with 1 Axes>"
      ]
     },
     "metadata": {},
     "output_type": "display_data"
    }
   ],
   "source": [
    "# Convertir la columna de fechas a formato datetime\n",
    "telecom_data[\"date\"] = pd.to_datetime(telecom_data[\"date\"])\n",
    "\n",
    "# Agrupar por mes y sumar el número de llamadas\n",
    "calls_per_month = telecom_data.groupby(telecom_data[\"date\"].dt.to_period(\"M\"))[\"calls_count\"].sum()\n",
    "\n",
    "# Crear histograma de llamadas mensuales\n",
    "plt.figure(figsize=(12, 6))\n",
    "plt.bar(calls_per_month.index.astype(str), calls_per_month.values, color=\"steelblue\", edgecolor=\"black\")\n",
    "plt.xlabel(\"Mes\")\n",
    "plt.ylabel(\"Número de llamadas\")\n",
    "plt.title(\"Distribución de llamadas mensuales\")\n",
    "plt.xticks(rotation=45)\n",
    "plt.show()"
   ]
  },
  {
   "cell_type": "markdown",
   "metadata": {},
   "source": [
    "Este gráfico te permitirá observar patrones mensuales en el volumen de llamadas. Si hay meses con actividad significativamente menor, podríamos analizar posibles causas, como temporadas bajas, eventos externos o cambios en la demanda del servicio."
   ]
  },
  {
   "cell_type": "markdown",
   "metadata": {},
   "source": [
    "## Prueba las hipótesis estadísticas"
   ]
  },
  {
   "cell_type": "code",
   "execution_count": 240,
   "metadata": {},
   "outputs": [],
   "source": [
    "# Filtrar operadores no identificados\n",
    "telecom_data_filtered = telecom_data[telecom_data[\"operator_id\"] != \"Op_no_identific\"]\n",
    "\n",
    "### Hipótesis 1: Los operadores con más carga de llamadas tienen más llamadas perdidas\n",
    "\n",
    "# Total de llamadas entrantes por operador\n",
    "incoming_calls = telecom_data_filtered[telecom_data_filtered['direction'] == 'in'].groupby('operator_id')['calls_count'].sum().reset_index()\n",
    "\n",
    "# Llamadas perdidas por operador\n",
    "missed_calls = telecom_data_filtered[telecom_data_filtered['is_missed_call'] == True].groupby('operator_id')['calls_count'].sum().reset_index()\n",
    "missed_calls.rename(columns={'calls_count': 'missed_calls'}, inplace=True)\n",
    "\n",
    "# Unir datos y calcular porcentaje de llamadas perdidas\n",
    "h1_data = incoming_calls.merge(missed_calls, on='operator_id', how='left')\n",
    "h1_data['missed_calls'].fillna(0, inplace=True)\n",
    "h1_data['missed_call_rate'] = h1_data['missed_calls'] / h1_data['calls_count']"
   ]
  },
  {
   "cell_type": "code",
   "execution_count": 241,
   "metadata": {},
   "outputs": [
    {
     "data": {
      "image/png": "[encoded data removed]",
      "text/plain": [
       "<Figure size 800x500 with 1 Axes>"
      ]
     },
     "metadata": {},
     "output_type": "display_data"
    }
   ],
   "source": [
    "# Visualización: Gráfico de dispersión\n",
    "plt.figure(figsize=(8, 5))\n",
    "sns.scatterplot(x=h1_data['calls_count'], y=h1_data['missed_call_rate'])\n",
    "plt.xlabel('Total de llamadas entrantes')\n",
    "plt.ylabel('Porcentaje de llamadas perdidas')\n",
    "plt.title('Relación entre carga de llamadas y llamadas perdidas')\n",
    "plt.show()"
   ]
  },
  {
   "cell_type": "markdown",
   "metadata": {},
   "source": [
    "1.Si encontramos que los operadores con más llamadas entrantes tienen una alta tasa de llamadas perdidas, podríamos concluir que la sobrecarga de trabajo es un factor que afecta la capacidad de respuesta.\n",
    "\n",
    "2.Si no hay una relación clara (valores dispersos y sin un patrón evidente), entonces la ineficacia en la gestión de llamadas podría depender de otros factores, como la velocidad de respuesta, capacitación o herramientas utilizadas.\n",
    "\n",
    "3.Si los puntos muestran una tendencia ascendente, significa que los operadores con más llamadas entrantes también tienen una mayor tasa de llamadas perdidas. Esto reforzaría la idea de que la sobrecarga de trabajo reduce la eficiencia.\n",
    "\n",
    "4.Si los puntos están muy dispersos sin una tendencia clara, indicaría que la cantidad de llamadas no influye significativamente en las llamadas perdidas. Esto nos llevaría a explorar otros factores, como la velocidad de respuesta o la eficiencia operativa.\n",
    "\n",
    "5.Si hay pocos operadores con alta carga y muchas llamadas perdidas, podríamos analizar si ciertos operadores están desbordados en comparación con otros."
   ]
  },
  {
   "cell_type": "code",
   "execution_count": 242,
   "metadata": {},
   "outputs": [
    {
     "name": "stdout",
     "output_type": "stream",
     "text": [
      "Coeficiente de correlación de Pearson: -0.05170\n",
      "Valor p: 0.15615\n",
      "No se encontró una relación significativa entre la carga de llamadas y la tasa de llamadas perdidas.\n"
     ]
    }
   ],
   "source": [
    "# Calcular correlación entre cantidad de llamadas entrantes y tasa de llamadas perdidas\n",
    "corr_coef, p_value = pearsonr(h1_data['calls_count'], h1_data['missed_call_rate'])\n",
    "\n",
    "# Mostrar resultados\n",
    "print(f\"Coeficiente de correlación de Pearson: {corr_coef:.5f}\")\n",
    "print(f\"Valor p: {p_value:.5f}\")\n",
    "\n",
    "# Interpretación\n",
    "if p_value < 0.05:\n",
    "    print(\"Existe una relación estadísticamente significativa entre la carga de llamadas y la tasa de llamadas perdidas.\")\n",
    "else:\n",
    "    print(\"No se encontró una relación significativa entre la carga de llamadas y la tasa de llamadas perdidas.\")"
   ]
  },
  {
   "cell_type": "markdown",
   "metadata": {},
   "source": [
    "Coeficiente de correlación (corr_coef)\n",
    "\n",
    "Si el valor es alto y positivo, significa que los operadores con más llamadas entrantes tienen más llamadas perdidas.\n",
    "Si el valor es cercano a 0, no hay una relación clara.\n",
    "Si el valor es negativo, significaría que más llamadas entrantes reducen las llamadas perdidas, lo cual sería inesperado.\n",
    "\n",
    "Valor p (p_value)\n",
    "\n",
    "Si p < 0.05, hay evidencia estadística de que la relación es significativa.\n",
    "\n",
    "Si p >= 0.05, no podemos afirmar con seguridad que exista una relación."
   ]
  },
  {
   "cell_type": "code",
   "execution_count": 243,
   "metadata": {},
   "outputs": [
    {
     "data": {
      "text/html": [
       "<div>\n",
       "<style scoped>\n",
       "    .dataframe tbody tr th:only-of-type {\n",
       "        vertical-align: middle;\n",
       "    }\n",
       "\n",
       "    .dataframe tbody tr th {\n",
       "        vertical-align: top;\n",
       "    }\n",
       "\n",
       "    .dataframe thead th {\n",
       "        text-align: right;\n",
       "    }\n",
       "</style>\n",
       "<table border=\"1\" class=\"dataframe\">\n",
       "  <thead>\n",
       "    <tr style=\"text-align: right;\">\n",
       "      <th></th>\n",
       "      <th>user_id</th>\n",
       "      <th>date</th>\n",
       "      <th>direction</th>\n",
       "      <th>internal</th>\n",
       "      <th>operator_id</th>\n",
       "      <th>is_missed_call</th>\n",
       "      <th>calls_count</th>\n",
       "      <th>call_duration</th>\n",
       "      <th>total_call_duration</th>\n",
       "      <th>waiting_time</th>\n",
       "      <th>avg_call_duration</th>\n",
       "      <th>avg_wait_time</th>\n",
       "    </tr>\n",
       "  </thead>\n",
       "  <tbody>\n",
       "    <tr>\n",
       "      <th>1</th>\n",
       "      <td>166377</td>\n",
       "      <td>2019-08-05</td>\n",
       "      <td>out</td>\n",
       "      <td>True</td>\n",
       "      <td>880022.0</td>\n",
       "      <td>True</td>\n",
       "      <td>3</td>\n",
       "      <td>0</td>\n",
       "      <td>5</td>\n",
       "      <td>5</td>\n",
       "      <td>0.0</td>\n",
       "      <td>5</td>\n",
       "    </tr>\n",
       "    <tr>\n",
       "      <th>2</th>\n",
       "      <td>166377</td>\n",
       "      <td>2019-08-05</td>\n",
       "      <td>out</td>\n",
       "      <td>True</td>\n",
       "      <td>880020.0</td>\n",
       "      <td>True</td>\n",
       "      <td>1</td>\n",
       "      <td>0</td>\n",
       "      <td>1</td>\n",
       "      <td>1</td>\n",
       "      <td>0.0</td>\n",
       "      <td>1</td>\n",
       "    </tr>\n",
       "    <tr>\n",
       "      <th>3</th>\n",
       "      <td>166377</td>\n",
       "      <td>2019-08-05</td>\n",
       "      <td>out</td>\n",
       "      <td>True</td>\n",
       "      <td>880020.0</td>\n",
       "      <td>False</td>\n",
       "      <td>1</td>\n",
       "      <td>10</td>\n",
       "      <td>18</td>\n",
       "      <td>8</td>\n",
       "      <td>10.0</td>\n",
       "      <td>8</td>\n",
       "    </tr>\n",
       "    <tr>\n",
       "      <th>4</th>\n",
       "      <td>166377</td>\n",
       "      <td>2019-08-05</td>\n",
       "      <td>out</td>\n",
       "      <td>False</td>\n",
       "      <td>880022.0</td>\n",
       "      <td>True</td>\n",
       "      <td>3</td>\n",
       "      <td>0</td>\n",
       "      <td>25</td>\n",
       "      <td>25</td>\n",
       "      <td>0.0</td>\n",
       "      <td>25</td>\n",
       "    </tr>\n",
       "    <tr>\n",
       "      <th>5</th>\n",
       "      <td>166377</td>\n",
       "      <td>2019-08-05</td>\n",
       "      <td>out</td>\n",
       "      <td>False</td>\n",
       "      <td>880020.0</td>\n",
       "      <td>False</td>\n",
       "      <td>2</td>\n",
       "      <td>3</td>\n",
       "      <td>29</td>\n",
       "      <td>26</td>\n",
       "      <td>1.5</td>\n",
       "      <td>26</td>\n",
       "    </tr>\n",
       "  </tbody>\n",
       "</table>\n",
       "</div>"
      ],
      "text/plain": [
       "   user_id       date direction internal operator_id  is_missed_call  \\\n",
       "1   166377 2019-08-05       out     True    880022.0            True   \n",
       "2   166377 2019-08-05       out     True    880020.0            True   \n",
       "3   166377 2019-08-05       out     True    880020.0           False   \n",
       "4   166377 2019-08-05       out    False    880022.0            True   \n",
       "5   166377 2019-08-05       out    False    880020.0           False   \n",
       "\n",
       "   calls_count  call_duration  total_call_duration  waiting_time  \\\n",
       "1            3              0                    5             5   \n",
       "2            1              0                    1             1   \n",
       "3            1             10                   18             8   \n",
       "4            3              0                   25            25   \n",
       "5            2              3                   29            26   \n",
       "\n",
       "   avg_call_duration  avg_wait_time  \n",
       "1                0.0              5  \n",
       "2                0.0              1  \n",
       "3               10.0              8  \n",
       "4                0.0             25  \n",
       "5                1.5             26  "
      ]
     },
     "execution_count": 243,
     "metadata": {},
     "output_type": "execute_result"
    }
   ],
   "source": [
    "telecom_data_filtered.head()"
   ]
  },
  {
   "cell_type": "code",
   "execution_count": 244,
   "metadata": {},
   "outputs": [
    {
     "name": "stdout",
     "output_type": "stream",
     "text": [
      "<class 'pandas.core.frame.DataFrame'>\n",
      "Int64Index: 45730 entries, 1 to 53900\n",
      "Data columns (total 12 columns):\n",
      " #   Column               Non-Null Count  Dtype         \n",
      "---  ------               --------------  -----         \n",
      " 0   user_id              45730 non-null  int64         \n",
      " 1   date                 45730 non-null  datetime64[ns]\n",
      " 2   direction            45730 non-null  object        \n",
      " 3   internal             45730 non-null  object        \n",
      " 4   operator_id          45730 non-null  object        \n",
      " 5   is_missed_call       45730 non-null  bool          \n",
      " 6   calls_count          45730 non-null  int64         \n",
      " 7   call_duration        45730 non-null  int64         \n",
      " 8   total_call_duration  45730 non-null  int64         \n",
      " 9   waiting_time         45730 non-null  int64         \n",
      " 10  avg_call_duration    45730 non-null  float64       \n",
      " 11  avg_wait_time        45730 non-null  int64         \n",
      "dtypes: bool(1), datetime64[ns](1), float64(1), int64(6), object(3)\n",
      "memory usage: 4.2+ MB\n"
     ]
    }
   ],
   "source": [
    "telecom_data_filtered.info()"
   ]
  },
  {
   "cell_type": "code",
   "execution_count": 245,
   "metadata": {},
   "outputs": [
    {
     "name": "stdout",
     "output_type": "stream",
     "text": [
      "Valor p: 0.00000\n",
      "Existe diferencia significativa en la duración total de llamadas entre los grupos.\n"
     ]
    }
   ],
   "source": [
    "# Filtrar operadores no identificados\n",
    "telecom_data_filtered = telecom_data[telecom_data[\"operator_id\"] != \"Op_no_identific\"]\n",
    "\n",
    "# Filtrar datos y calcular duración total de llamadas por operador\n",
    "call_duration_avg = telecom_data_filtered.groupby('operator_id')['total_call_duration'].mean().reset_index()\n",
    "\n",
    "# Unir con datos de llamadas perdidas\n",
    "h4_data = missed_calls.merge(call_duration_avg, on='operator_id', how='left')\n",
    "\n",
    "# Dividir en dos grupos según cantidad de llamadas perdidas (mediana como umbral)\n",
    "high_missed_calls = h4_data[h4_data['missed_calls'] > h4_data['missed_calls'].median()]['total_call_duration']\n",
    "low_missed_calls = h4_data[h4_data['missed_calls'] <= h4_data['missed_calls'].median()]['total_call_duration']\n",
    "\n",
    "# Prueba de t-test\n",
    "t_stat, p_val = ttest_ind(high_missed_calls, low_missed_calls)\n",
    "\n",
    "# Mostrar resultados\n",
    "print(f\"Valor p: {p_val:.5f}\")\n",
    "if p_val < 0.05:\n",
    "    print(\"Existe diferencia significativa en la duración total de llamadas entre los grupos.\")\n",
    "else:\n",
    "    print(\"No se encontró diferencia significativa en la duración total de llamadas.\")"
   ]
  },
  {
   "cell_type": "markdown",
   "metadata": {},
   "source": [
    "Prueba de t-test:\n",
    "\n",
    "El valor p obtenido es p_val, que indica la probabilidad de que las diferencias observadas entre los grupos sean fruto del azar.\n",
    "\n",
    "Si p_val < 0.05, entonces hay una diferencia estadísticamente significativa entre los operadores con muchas y pocas llamadas perdidas respecto a su duración total de llamada.\n",
    "\n",
    "Si p_val >= 0.05, entonces no hay evidencia suficiente para afirmar que los operadores con más llamadas perdidas tienen una duración total de llamada diferente."
   ]
  },
  {
   "cell_type": "markdown",
   "metadata": {},
   "source": [
    "## Conclusión\n",
    "Este análisis nos ayuda a entender cómo la ineficacia en la gestión de llamadas puede influir en la duración total de interacción con los clientes. \n",
    "\n",
    "Dependiendo del resultado del valor p, podríamos recomendar mejoras en asignación de llamadas, capacitación de operadores o ajustes en la distribución de carga de trabajo para mejorar la eficiencia del servicio.\n",
    "\n",
    "Los resultados mostraron que algunos operadores presentan tiempos de espera prolongados y una alta cantidad de llamadas perdidas, lo que podría afectar la experiencia del cliente. Además, al visualizar la duración promedio de llamadas según su dirección (in o out), observamos patrones que podrían indicar diferencias operativas significativas.\n",
    "\n"
   ]
  },
  {
   "cell_type": "markdown",
   "metadata": {},
   "source": [
    "## Recomendaciones\n",
    "-Implementar un sistema de distribución de llamadas más eficiente basado en el rendimiento de los operadores.\n",
    "\n",
    "-Priorizar la asignación de llamadas entrantes a operadores con tiempos de respuesta rápidos y baja tasa de llamadas perdidas.\n",
    "\n",
    "-Ofrecer entrenamientos específicos a los operadores con altas tasas de llamadas perdidas.\n",
    "\n",
    "-Establecer métricas de rendimiento y alertas automáticas para detectar operadores con tendencias de ineficacia.\n",
    "\n",
    "-justar estrategias de respuesta y atención para minimizar el tiempo de espera.\n",
    "\n",
    "-Evaluar mejoras en la infraestructura de comunicación para acelerar la conexión de llamadas.\n",
    "\n",
    "-Implementar encuestas de satisfacción para detectar si las llamadas perdidas afectan la experiencia del cliente.\n",
    "\n",
    "-Crear protocolos de seguimiento para llamadas perdidas, asegurando que los clientes sean contactados posteriormente.\n",
    "\n",
    "\n",
    "\n",
    "\n",
    "\n"
   ]
  },
  {
   "cell_type": "markdown",
   "metadata": {},
   "source": [
    "Se realizo un dashboard en Tableau Public Se adjunta los link"
   ]
  },
  {
   "cell_type": "markdown",
   "metadata": {},
   "source": [
    "### LINK Tableau:\n",
    "\n",
    "https://public.tableau.com/app/profile/roberto.garc.a.p.rez/viz/ProyectoFinalSprint14_17495276654520/Dashboard1?publish=yes\n"
   ]
  },
  {
   "cell_type": "markdown",
   "metadata": {},
   "source": [
    "LINK GOOGLE Drive"
   ]
  },
  {
   "cell_type": "markdown",
   "metadata": {},
   "source": [
    "https://drive.google.com/drive/folders/1a_edWiSf7d42LbQHWhZ0qv2DqY1G8jV6?usp=sharing"
   ]
  },
  {
   "cell_type": "markdown",
   "metadata": {},
   "source": [
    "<div class=\"alert alert-block alert-danger\">\n",
    "<b>Comentario del revisor (1ra Iteracion)</b> <a class=“tocSkip”></a>\n",
    "\n",
    "La presentación es bastante completa pero hay algunas gráficas ahí que no están aquí en el notebook que son las del dashboard pero también deberías dejarlas aquí en el notebok (generandolas con matplotlib o seaborn) \n",
    "</div>"
   ]
  },
  {
   "cell_type": "markdown",
   "metadata": {},
   "source": [
    "<div class=\"alert alert-block alert-info\">\n",
    "<b>Se incluye los graficos adicionales del dashboard dentro del notebook </b> <a class=“tocSkip”></a>\n",
    "</div>"
   ]
  },
  {
   "cell_type": "markdown",
   "metadata": {},
   "source": [
    "<div class=\"alert alert-block alert-success\">\n",
    "<b>Comentario general (2da Iteracion)</b> <a class=“tocSkip”></a>\n",
    "\n",
    "**¡Te felicito por el trabajo realizado Roberto!** Con este proyecto demuestras las habilidades adquiridas durante tu formación, se nota tu capacidad de contar historias con datos con la excelente presentación realizada que súper fácil de entender lo cual es una habilidad super importante cómo analista de datos, el saber comunicar de manera sencilla y eficiente los resultados de tus análisis.\n",
    "    \n",
    "Se nota mucho el manejo que tienes de las librerías para crear visualizaciones muy buenas que explican correctamente las variables analizadas, te animo a seguir práctica con otros recursos y que vayas construyendo un portafolio de proyectos súper robusto para que seas Data Analyst de primera en el mundo laboral.\n",
    "   \n",
    "Saludos!\n",
    "</div>"
   ]
  }
 ],
 "metadata": {
  "kernelspec": {
   "display_name": "Python 3 (ipykernel)",
   "language": "python",
   "name": "python3"
  },
  "language_info": {
   "codemirror_mode": {
    "name": "ipython",
    "version": 3
   },
   "file_extension": ".py",
   "mimetype": "text/x-python",
   "name": "python",
   "nbconvert_exporter": "python",
   "pygments_lexer": "ipython3",
   "version": "3.9.23"
  }
 },
 "nbformat": 4,
 "nbformat_minor": 4
}
